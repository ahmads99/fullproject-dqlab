{
  "nbformat": 4,
  "nbformat_minor": 0,
  "metadata": {
    "colab": {
      "provenance": []
    },
    "kernelspec": {
      "name": "python3",
      "display_name": "Python 3"
    },
    "language_info": {
      "name": "python"
    },
    "widgets": {
      "application/vnd.jupyter.widget-state+json": {
        "0c2106fdf0ae42cf89d971d2798a0d1c": {
          "model_module": "@jupyter-widgets/controls",
          "model_name": "HBoxModel",
          "model_module_version": "1.5.0",
          "state": {
            "_dom_classes": [],
            "_model_module": "@jupyter-widgets/controls",
            "_model_module_version": "1.5.0",
            "_model_name": "HBoxModel",
            "_view_count": null,
            "_view_module": "@jupyter-widgets/controls",
            "_view_module_version": "1.5.0",
            "_view_name": "HBoxView",
            "box_style": "",
            "children": [
              "IPY_MODEL_e280c8c8420e41d695f2a54c55e4f9bc",
              "IPY_MODEL_4210aa907d544ba8a4a681a86b3e933e",
              "IPY_MODEL_164cdfc45f054902b70695b7d3c2b1e3"
            ],
            "layout": "IPY_MODEL_17f4dc7f56b24716891529f4cf6d899b"
          }
        },
        "e280c8c8420e41d695f2a54c55e4f9bc": {
          "model_module": "@jupyter-widgets/controls",
          "model_name": "HTMLModel",
          "model_module_version": "1.5.0",
          "state": {
            "_dom_classes": [],
            "_model_module": "@jupyter-widgets/controls",
            "_model_module_version": "1.5.0",
            "_model_name": "HTMLModel",
            "_view_count": null,
            "_view_module": "@jupyter-widgets/controls",
            "_view_module_version": "1.5.0",
            "_view_name": "HTMLView",
            "description": "",
            "description_tooltip": null,
            "layout": "IPY_MODEL_1ce96d0cd0994fe48482561f6d846cb4",
            "placeholder": "​",
            "style": "IPY_MODEL_56a20de6e36246929582ccecc1c8425b",
            "value": "Processing: 100%"
          }
        },
        "4210aa907d544ba8a4a681a86b3e933e": {
          "model_module": "@jupyter-widgets/controls",
          "model_name": "FloatProgressModel",
          "model_module_version": "1.5.0",
          "state": {
            "_dom_classes": [],
            "_model_module": "@jupyter-widgets/controls",
            "_model_module_version": "1.5.0",
            "_model_name": "FloatProgressModel",
            "_view_count": null,
            "_view_module": "@jupyter-widgets/controls",
            "_view_module_version": "1.5.0",
            "_view_name": "ProgressView",
            "bar_style": "",
            "description": "",
            "description_tooltip": null,
            "layout": "IPY_MODEL_ff947381733140249c75ebc49d820791",
            "max": 65,
            "min": 0,
            "orientation": "horizontal",
            "style": "IPY_MODEL_3c4180743dcb4d8ab6cde50fed406b6f",
            "value": 65
          }
        },
        "164cdfc45f054902b70695b7d3c2b1e3": {
          "model_module": "@jupyter-widgets/controls",
          "model_name": "HTMLModel",
          "model_module_version": "1.5.0",
          "state": {
            "_dom_classes": [],
            "_model_module": "@jupyter-widgets/controls",
            "_model_module_version": "1.5.0",
            "_model_name": "HTMLModel",
            "_view_count": null,
            "_view_module": "@jupyter-widgets/controls",
            "_view_module_version": "1.5.0",
            "_view_name": "HTMLView",
            "description": "",
            "description_tooltip": null,
            "layout": "IPY_MODEL_41130940641d48f1a210d00037cfcaaf",
            "placeholder": "​",
            "style": "IPY_MODEL_ddacc92cb8fb41eb9d4c54b10802f39a",
            "value": " 65/65 [01:01&lt;00:00,  1.09it/s]"
          }
        },
        "17f4dc7f56b24716891529f4cf6d899b": {
          "model_module": "@jupyter-widgets/base",
          "model_name": "LayoutModel",
          "model_module_version": "1.2.0",
          "state": {
            "_model_module": "@jupyter-widgets/base",
            "_model_module_version": "1.2.0",
            "_model_name": "LayoutModel",
            "_view_count": null,
            "_view_module": "@jupyter-widgets/base",
            "_view_module_version": "1.2.0",
            "_view_name": "LayoutView",
            "align_content": null,
            "align_items": null,
            "align_self": null,
            "border": null,
            "bottom": null,
            "display": null,
            "flex": null,
            "flex_flow": null,
            "grid_area": null,
            "grid_auto_columns": null,
            "grid_auto_flow": null,
            "grid_auto_rows": null,
            "grid_column": null,
            "grid_gap": null,
            "grid_row": null,
            "grid_template_areas": null,
            "grid_template_columns": null,
            "grid_template_rows": null,
            "height": null,
            "justify_content": null,
            "justify_items": null,
            "left": null,
            "margin": null,
            "max_height": null,
            "max_width": null,
            "min_height": null,
            "min_width": null,
            "object_fit": null,
            "object_position": null,
            "order": null,
            "overflow": null,
            "overflow_x": null,
            "overflow_y": null,
            "padding": null,
            "right": null,
            "top": null,
            "visibility": "hidden",
            "width": null
          }
        },
        "1ce96d0cd0994fe48482561f6d846cb4": {
          "model_module": "@jupyter-widgets/base",
          "model_name": "LayoutModel",
          "model_module_version": "1.2.0",
          "state": {
            "_model_module": "@jupyter-widgets/base",
            "_model_module_version": "1.2.0",
            "_model_name": "LayoutModel",
            "_view_count": null,
            "_view_module": "@jupyter-widgets/base",
            "_view_module_version": "1.2.0",
            "_view_name": "LayoutView",
            "align_content": null,
            "align_items": null,
            "align_self": null,
            "border": null,
            "bottom": null,
            "display": null,
            "flex": null,
            "flex_flow": null,
            "grid_area": null,
            "grid_auto_columns": null,
            "grid_auto_flow": null,
            "grid_auto_rows": null,
            "grid_column": null,
            "grid_gap": null,
            "grid_row": null,
            "grid_template_areas": null,
            "grid_template_columns": null,
            "grid_template_rows": null,
            "height": null,
            "justify_content": null,
            "justify_items": null,
            "left": null,
            "margin": null,
            "max_height": null,
            "max_width": null,
            "min_height": null,
            "min_width": null,
            "object_fit": null,
            "object_position": null,
            "order": null,
            "overflow": null,
            "overflow_x": null,
            "overflow_y": null,
            "padding": null,
            "right": null,
            "top": null,
            "visibility": null,
            "width": null
          }
        },
        "56a20de6e36246929582ccecc1c8425b": {
          "model_module": "@jupyter-widgets/controls",
          "model_name": "DescriptionStyleModel",
          "model_module_version": "1.5.0",
          "state": {
            "_model_module": "@jupyter-widgets/controls",
            "_model_module_version": "1.5.0",
            "_model_name": "DescriptionStyleModel",
            "_view_count": null,
            "_view_module": "@jupyter-widgets/base",
            "_view_module_version": "1.2.0",
            "_view_name": "StyleView",
            "description_width": ""
          }
        },
        "ff947381733140249c75ebc49d820791": {
          "model_module": "@jupyter-widgets/base",
          "model_name": "LayoutModel",
          "model_module_version": "1.2.0",
          "state": {
            "_model_module": "@jupyter-widgets/base",
            "_model_module_version": "1.2.0",
            "_model_name": "LayoutModel",
            "_view_count": null,
            "_view_module": "@jupyter-widgets/base",
            "_view_module_version": "1.2.0",
            "_view_name": "LayoutView",
            "align_content": null,
            "align_items": null,
            "align_self": null,
            "border": null,
            "bottom": null,
            "display": null,
            "flex": null,
            "flex_flow": null,
            "grid_area": null,
            "grid_auto_columns": null,
            "grid_auto_flow": null,
            "grid_auto_rows": null,
            "grid_column": null,
            "grid_gap": null,
            "grid_row": null,
            "grid_template_areas": null,
            "grid_template_columns": null,
            "grid_template_rows": null,
            "height": null,
            "justify_content": null,
            "justify_items": null,
            "left": null,
            "margin": null,
            "max_height": null,
            "max_width": null,
            "min_height": null,
            "min_width": null,
            "object_fit": null,
            "object_position": null,
            "order": null,
            "overflow": null,
            "overflow_x": null,
            "overflow_y": null,
            "padding": null,
            "right": null,
            "top": null,
            "visibility": null,
            "width": null
          }
        },
        "3c4180743dcb4d8ab6cde50fed406b6f": {
          "model_module": "@jupyter-widgets/controls",
          "model_name": "ProgressStyleModel",
          "model_module_version": "1.5.0",
          "state": {
            "_model_module": "@jupyter-widgets/controls",
            "_model_module_version": "1.5.0",
            "_model_name": "ProgressStyleModel",
            "_view_count": null,
            "_view_module": "@jupyter-widgets/base",
            "_view_module_version": "1.2.0",
            "_view_name": "StyleView",
            "bar_color": null,
            "description_width": ""
          }
        },
        "41130940641d48f1a210d00037cfcaaf": {
          "model_module": "@jupyter-widgets/base",
          "model_name": "LayoutModel",
          "model_module_version": "1.2.0",
          "state": {
            "_model_module": "@jupyter-widgets/base",
            "_model_module_version": "1.2.0",
            "_model_name": "LayoutModel",
            "_view_count": null,
            "_view_module": "@jupyter-widgets/base",
            "_view_module_version": "1.2.0",
            "_view_name": "LayoutView",
            "align_content": null,
            "align_items": null,
            "align_self": null,
            "border": null,
            "bottom": null,
            "display": null,
            "flex": null,
            "flex_flow": null,
            "grid_area": null,
            "grid_auto_columns": null,
            "grid_auto_flow": null,
            "grid_auto_rows": null,
            "grid_column": null,
            "grid_gap": null,
            "grid_row": null,
            "grid_template_areas": null,
            "grid_template_columns": null,
            "grid_template_rows": null,
            "height": null,
            "justify_content": null,
            "justify_items": null,
            "left": null,
            "margin": null,
            "max_height": null,
            "max_width": null,
            "min_height": null,
            "min_width": null,
            "object_fit": null,
            "object_position": null,
            "order": null,
            "overflow": null,
            "overflow_x": null,
            "overflow_y": null,
            "padding": null,
            "right": null,
            "top": null,
            "visibility": null,
            "width": null
          }
        },
        "ddacc92cb8fb41eb9d4c54b10802f39a": {
          "model_module": "@jupyter-widgets/controls",
          "model_name": "DescriptionStyleModel",
          "model_module_version": "1.5.0",
          "state": {
            "_model_module": "@jupyter-widgets/controls",
            "_model_module_version": "1.5.0",
            "_model_name": "DescriptionStyleModel",
            "_view_count": null,
            "_view_module": "@jupyter-widgets/base",
            "_view_module_version": "1.2.0",
            "_view_name": "StyleView",
            "description_width": ""
          }
        },
        "0a6c30e212cb4d9393c9e3e5d33a01b8": {
          "model_module": "@jupyter-widgets/controls",
          "model_name": "HBoxModel",
          "model_module_version": "1.5.0",
          "state": {
            "_dom_classes": [],
            "_model_module": "@jupyter-widgets/controls",
            "_model_module_version": "1.5.0",
            "_model_name": "HBoxModel",
            "_view_count": null,
            "_view_module": "@jupyter-widgets/controls",
            "_view_module_version": "1.5.0",
            "_view_name": "HBoxView",
            "box_style": "",
            "children": [
              "IPY_MODEL_6471635f5c58486aa5aa417d6c131df3",
              "IPY_MODEL_fe9347f8151442a99a4c5f8780ed5975",
              "IPY_MODEL_50084a82858644f385fb1f6cbcbbd7a9"
            ],
            "layout": "IPY_MODEL_fda9b38ad4c646cf9945364a4a944fb4"
          }
        },
        "6471635f5c58486aa5aa417d6c131df3": {
          "model_module": "@jupyter-widgets/controls",
          "model_name": "HTMLModel",
          "model_module_version": "1.5.0",
          "state": {
            "_dom_classes": [],
            "_model_module": "@jupyter-widgets/controls",
            "_model_module_version": "1.5.0",
            "_model_name": "HTMLModel",
            "_view_count": null,
            "_view_module": "@jupyter-widgets/controls",
            "_view_module_version": "1.5.0",
            "_view_name": "HTMLView",
            "description": "",
            "description_tooltip": null,
            "layout": "IPY_MODEL_a0c6830ced2e468bb9d46c82728eac47",
            "placeholder": "​",
            "style": "IPY_MODEL_022a435762df46a98e1fec8d137263ba",
            "value": "Processing:  86%"
          }
        },
        "fe9347f8151442a99a4c5f8780ed5975": {
          "model_module": "@jupyter-widgets/controls",
          "model_name": "FloatProgressModel",
          "model_module_version": "1.5.0",
          "state": {
            "_dom_classes": [],
            "_model_module": "@jupyter-widgets/controls",
            "_model_module_version": "1.5.0",
            "_model_name": "FloatProgressModel",
            "_view_count": null,
            "_view_module": "@jupyter-widgets/controls",
            "_view_module_version": "1.5.0",
            "_view_name": "ProgressView",
            "bar_style": "",
            "description": "",
            "description_tooltip": null,
            "layout": "IPY_MODEL_11b8bf56ae8c42cebeb7b9353ebe63d9",
            "max": 7,
            "min": 0,
            "orientation": "horizontal",
            "style": "IPY_MODEL_b101dde9d3d7418ebb2cd7e8fb1c9173",
            "value": 7
          }
        },
        "50084a82858644f385fb1f6cbcbbd7a9": {
          "model_module": "@jupyter-widgets/controls",
          "model_name": "HTMLModel",
          "model_module_version": "1.5.0",
          "state": {
            "_dom_classes": [],
            "_model_module": "@jupyter-widgets/controls",
            "_model_module_version": "1.5.0",
            "_model_name": "HTMLModel",
            "_view_count": null,
            "_view_module": "@jupyter-widgets/controls",
            "_view_module_version": "1.5.0",
            "_view_name": "HTMLView",
            "description": "",
            "description_tooltip": null,
            "layout": "IPY_MODEL_83df83186f1e42cb8f299f3f66346571",
            "placeholder": "​",
            "style": "IPY_MODEL_4dc4dd11420b4fc1bb1f545d9ce7affa",
            "value": " 6/7 [00:09&lt;00:01,  1.29s/it]"
          }
        },
        "fda9b38ad4c646cf9945364a4a944fb4": {
          "model_module": "@jupyter-widgets/base",
          "model_name": "LayoutModel",
          "model_module_version": "1.2.0",
          "state": {
            "_model_module": "@jupyter-widgets/base",
            "_model_module_version": "1.2.0",
            "_model_name": "LayoutModel",
            "_view_count": null,
            "_view_module": "@jupyter-widgets/base",
            "_view_module_version": "1.2.0",
            "_view_name": "LayoutView",
            "align_content": null,
            "align_items": null,
            "align_self": null,
            "border": null,
            "bottom": null,
            "display": null,
            "flex": null,
            "flex_flow": null,
            "grid_area": null,
            "grid_auto_columns": null,
            "grid_auto_flow": null,
            "grid_auto_rows": null,
            "grid_column": null,
            "grid_gap": null,
            "grid_row": null,
            "grid_template_areas": null,
            "grid_template_columns": null,
            "grid_template_rows": null,
            "height": null,
            "justify_content": null,
            "justify_items": null,
            "left": null,
            "margin": null,
            "max_height": null,
            "max_width": null,
            "min_height": null,
            "min_width": null,
            "object_fit": null,
            "object_position": null,
            "order": null,
            "overflow": null,
            "overflow_x": null,
            "overflow_y": null,
            "padding": null,
            "right": null,
            "top": null,
            "visibility": "hidden",
            "width": null
          }
        },
        "a0c6830ced2e468bb9d46c82728eac47": {
          "model_module": "@jupyter-widgets/base",
          "model_name": "LayoutModel",
          "model_module_version": "1.2.0",
          "state": {
            "_model_module": "@jupyter-widgets/base",
            "_model_module_version": "1.2.0",
            "_model_name": "LayoutModel",
            "_view_count": null,
            "_view_module": "@jupyter-widgets/base",
            "_view_module_version": "1.2.0",
            "_view_name": "LayoutView",
            "align_content": null,
            "align_items": null,
            "align_self": null,
            "border": null,
            "bottom": null,
            "display": null,
            "flex": null,
            "flex_flow": null,
            "grid_area": null,
            "grid_auto_columns": null,
            "grid_auto_flow": null,
            "grid_auto_rows": null,
            "grid_column": null,
            "grid_gap": null,
            "grid_row": null,
            "grid_template_areas": null,
            "grid_template_columns": null,
            "grid_template_rows": null,
            "height": null,
            "justify_content": null,
            "justify_items": null,
            "left": null,
            "margin": null,
            "max_height": null,
            "max_width": null,
            "min_height": null,
            "min_width": null,
            "object_fit": null,
            "object_position": null,
            "order": null,
            "overflow": null,
            "overflow_x": null,
            "overflow_y": null,
            "padding": null,
            "right": null,
            "top": null,
            "visibility": null,
            "width": null
          }
        },
        "022a435762df46a98e1fec8d137263ba": {
          "model_module": "@jupyter-widgets/controls",
          "model_name": "DescriptionStyleModel",
          "model_module_version": "1.5.0",
          "state": {
            "_model_module": "@jupyter-widgets/controls",
            "_model_module_version": "1.5.0",
            "_model_name": "DescriptionStyleModel",
            "_view_count": null,
            "_view_module": "@jupyter-widgets/base",
            "_view_module_version": "1.2.0",
            "_view_name": "StyleView",
            "description_width": ""
          }
        },
        "11b8bf56ae8c42cebeb7b9353ebe63d9": {
          "model_module": "@jupyter-widgets/base",
          "model_name": "LayoutModel",
          "model_module_version": "1.2.0",
          "state": {
            "_model_module": "@jupyter-widgets/base",
            "_model_module_version": "1.2.0",
            "_model_name": "LayoutModel",
            "_view_count": null,
            "_view_module": "@jupyter-widgets/base",
            "_view_module_version": "1.2.0",
            "_view_name": "LayoutView",
            "align_content": null,
            "align_items": null,
            "align_self": null,
            "border": null,
            "bottom": null,
            "display": null,
            "flex": null,
            "flex_flow": null,
            "grid_area": null,
            "grid_auto_columns": null,
            "grid_auto_flow": null,
            "grid_auto_rows": null,
            "grid_column": null,
            "grid_gap": null,
            "grid_row": null,
            "grid_template_areas": null,
            "grid_template_columns": null,
            "grid_template_rows": null,
            "height": null,
            "justify_content": null,
            "justify_items": null,
            "left": null,
            "margin": null,
            "max_height": null,
            "max_width": null,
            "min_height": null,
            "min_width": null,
            "object_fit": null,
            "object_position": null,
            "order": null,
            "overflow": null,
            "overflow_x": null,
            "overflow_y": null,
            "padding": null,
            "right": null,
            "top": null,
            "visibility": null,
            "width": null
          }
        },
        "b101dde9d3d7418ebb2cd7e8fb1c9173": {
          "model_module": "@jupyter-widgets/controls",
          "model_name": "ProgressStyleModel",
          "model_module_version": "1.5.0",
          "state": {
            "_model_module": "@jupyter-widgets/controls",
            "_model_module_version": "1.5.0",
            "_model_name": "ProgressStyleModel",
            "_view_count": null,
            "_view_module": "@jupyter-widgets/base",
            "_view_module_version": "1.2.0",
            "_view_name": "StyleView",
            "bar_color": null,
            "description_width": ""
          }
        },
        "83df83186f1e42cb8f299f3f66346571": {
          "model_module": "@jupyter-widgets/base",
          "model_name": "LayoutModel",
          "model_module_version": "1.2.0",
          "state": {
            "_model_module": "@jupyter-widgets/base",
            "_model_module_version": "1.2.0",
            "_model_name": "LayoutModel",
            "_view_count": null,
            "_view_module": "@jupyter-widgets/base",
            "_view_module_version": "1.2.0",
            "_view_name": "LayoutView",
            "align_content": null,
            "align_items": null,
            "align_self": null,
            "border": null,
            "bottom": null,
            "display": null,
            "flex": null,
            "flex_flow": null,
            "grid_area": null,
            "grid_auto_columns": null,
            "grid_auto_flow": null,
            "grid_auto_rows": null,
            "grid_column": null,
            "grid_gap": null,
            "grid_row": null,
            "grid_template_areas": null,
            "grid_template_columns": null,
            "grid_template_rows": null,
            "height": null,
            "justify_content": null,
            "justify_items": null,
            "left": null,
            "margin": null,
            "max_height": null,
            "max_width": null,
            "min_height": null,
            "min_width": null,
            "object_fit": null,
            "object_position": null,
            "order": null,
            "overflow": null,
            "overflow_x": null,
            "overflow_y": null,
            "padding": null,
            "right": null,
            "top": null,
            "visibility": null,
            "width": null
          }
        },
        "4dc4dd11420b4fc1bb1f545d9ce7affa": {
          "model_module": "@jupyter-widgets/controls",
          "model_name": "DescriptionStyleModel",
          "model_module_version": "1.5.0",
          "state": {
            "_model_module": "@jupyter-widgets/controls",
            "_model_module_version": "1.5.0",
            "_model_name": "DescriptionStyleModel",
            "_view_count": null,
            "_view_module": "@jupyter-widgets/base",
            "_view_module_version": "1.2.0",
            "_view_name": "StyleView",
            "description_width": ""
          }
        },
        "41cde8412598470f89bb500111004941": {
          "model_module": "@jupyter-widgets/controls",
          "model_name": "VBoxModel",
          "model_module_version": "1.5.0",
          "state": {
            "_dom_classes": [
              "widget-interact"
            ],
            "_model_module": "@jupyter-widgets/controls",
            "_model_module_version": "1.5.0",
            "_model_name": "VBoxModel",
            "_view_count": null,
            "_view_module": "@jupyter-widgets/controls",
            "_view_module_version": "1.5.0",
            "_view_name": "VBoxView",
            "box_style": "",
            "children": [
              "IPY_MODEL_120f0313f4cc41508991acadaeef9ed6",
              "IPY_MODEL_4251982922eb44f9ab7dc5e5d2f934b1"
            ],
            "layout": "IPY_MODEL_534b6500233344c28d00343bb65e31c1"
          }
        },
        "120f0313f4cc41508991acadaeef9ed6": {
          "model_module": "@jupyter-widgets/controls",
          "model_name": "ToggleButtonsModel",
          "model_module_version": "1.5.0",
          "state": {
            "_dom_classes": [],
            "_model_module": "@jupyter-widgets/controls",
            "_model_module_version": "1.5.0",
            "_model_name": "ToggleButtonsModel",
            "_options_labels": [
              "Pipeline Plot",
              "Hyperparameters",
              "AUC",
              "Confusion Matrix",
              "Threshold",
              "Precision Recall",
              "Prediction Error",
              "Class Report",
              "Feature Selection",
              "Learning Curve",
              "Manifold Learning",
              "Calibration Curve",
              "Validation Curve",
              "Dimensions",
              "Feature Importance",
              "Feature Importance (All)",
              "Decision Boundary",
              "Lift Chart",
              "Gain Chart",
              "Decision Tree",
              "KS Statistic Plot"
            ],
            "_view_count": null,
            "_view_module": "@jupyter-widgets/controls",
            "_view_module_version": "1.5.0",
            "_view_name": "ToggleButtonsView",
            "button_style": "",
            "description": "Plot Type:",
            "description_tooltip": null,
            "disabled": false,
            "icons": [
              ""
            ],
            "index": 3,
            "layout": "IPY_MODEL_21b3cc88b74c4065a279679b4bbf9643",
            "style": "IPY_MODEL_80fbd66b5a2e4cfe9e5cc63396fe1404",
            "tooltips": []
          }
        },
        "4251982922eb44f9ab7dc5e5d2f934b1": {
          "model_module": "@jupyter-widgets/output",
          "model_name": "OutputModel",
          "model_module_version": "1.0.0",
          "state": {
            "_dom_classes": [],
            "_model_module": "@jupyter-widgets/output",
            "_model_module_version": "1.0.0",
            "_model_name": "OutputModel",
            "_view_count": null,
            "_view_module": "@jupyter-widgets/output",
            "_view_module_version": "1.0.0",
            "_view_name": "OutputView",
            "layout": "IPY_MODEL_a7f783c4f5b24b1fa1b5b18cc5950acc",
            "msg_id": "",
            "outputs": [
              {
                "output_type": "display_data",
                "data": {
                  "text/plain": "<Figure size 800x550 with 1 Axes>",
                  "image/png": "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\n"
                },
                "metadata": {}
              }
            ]
          }
        },
        "534b6500233344c28d00343bb65e31c1": {
          "model_module": "@jupyter-widgets/base",
          "model_name": "LayoutModel",
          "model_module_version": "1.2.0",
          "state": {
            "_model_module": "@jupyter-widgets/base",
            "_model_module_version": "1.2.0",
            "_model_name": "LayoutModel",
            "_view_count": null,
            "_view_module": "@jupyter-widgets/base",
            "_view_module_version": "1.2.0",
            "_view_name": "LayoutView",
            "align_content": null,
            "align_items": null,
            "align_self": null,
            "border": null,
            "bottom": null,
            "display": null,
            "flex": null,
            "flex_flow": null,
            "grid_area": null,
            "grid_auto_columns": null,
            "grid_auto_flow": null,
            "grid_auto_rows": null,
            "grid_column": null,
            "grid_gap": null,
            "grid_row": null,
            "grid_template_areas": null,
            "grid_template_columns": null,
            "grid_template_rows": null,
            "height": null,
            "justify_content": null,
            "justify_items": null,
            "left": null,
            "margin": null,
            "max_height": null,
            "max_width": null,
            "min_height": null,
            "min_width": null,
            "object_fit": null,
            "object_position": null,
            "order": null,
            "overflow": null,
            "overflow_x": null,
            "overflow_y": null,
            "padding": null,
            "right": null,
            "top": null,
            "visibility": null,
            "width": null
          }
        },
        "21b3cc88b74c4065a279679b4bbf9643": {
          "model_module": "@jupyter-widgets/base",
          "model_name": "LayoutModel",
          "model_module_version": "1.2.0",
          "state": {
            "_model_module": "@jupyter-widgets/base",
            "_model_module_version": "1.2.0",
            "_model_name": "LayoutModel",
            "_view_count": null,
            "_view_module": "@jupyter-widgets/base",
            "_view_module_version": "1.2.0",
            "_view_name": "LayoutView",
            "align_content": null,
            "align_items": null,
            "align_self": null,
            "border": null,
            "bottom": null,
            "display": null,
            "flex": null,
            "flex_flow": null,
            "grid_area": null,
            "grid_auto_columns": null,
            "grid_auto_flow": null,
            "grid_auto_rows": null,
            "grid_column": null,
            "grid_gap": null,
            "grid_row": null,
            "grid_template_areas": null,
            "grid_template_columns": null,
            "grid_template_rows": null,
            "height": null,
            "justify_content": null,
            "justify_items": null,
            "left": null,
            "margin": null,
            "max_height": null,
            "max_width": null,
            "min_height": null,
            "min_width": null,
            "object_fit": null,
            "object_position": null,
            "order": null,
            "overflow": null,
            "overflow_x": null,
            "overflow_y": null,
            "padding": null,
            "right": null,
            "top": null,
            "visibility": null,
            "width": null
          }
        },
        "80fbd66b5a2e4cfe9e5cc63396fe1404": {
          "model_module": "@jupyter-widgets/controls",
          "model_name": "ToggleButtonsStyleModel",
          "model_module_version": "1.5.0",
          "state": {
            "_model_module": "@jupyter-widgets/controls",
            "_model_module_version": "1.5.0",
            "_model_name": "ToggleButtonsStyleModel",
            "_view_count": null,
            "_view_module": "@jupyter-widgets/base",
            "_view_module_version": "1.2.0",
            "_view_name": "StyleView",
            "button_width": "",
            "description_width": "",
            "font_weight": ""
          }
        },
        "a7f783c4f5b24b1fa1b5b18cc5950acc": {
          "model_module": "@jupyter-widgets/base",
          "model_name": "LayoutModel",
          "model_module_version": "1.2.0",
          "state": {
            "_model_module": "@jupyter-widgets/base",
            "_model_module_version": "1.2.0",
            "_model_name": "LayoutModel",
            "_view_count": null,
            "_view_module": "@jupyter-widgets/base",
            "_view_module_version": "1.2.0",
            "_view_name": "LayoutView",
            "align_content": null,
            "align_items": null,
            "align_self": null,
            "border": null,
            "bottom": null,
            "display": null,
            "flex": null,
            "flex_flow": null,
            "grid_area": null,
            "grid_auto_columns": null,
            "grid_auto_flow": null,
            "grid_auto_rows": null,
            "grid_column": null,
            "grid_gap": null,
            "grid_row": null,
            "grid_template_areas": null,
            "grid_template_columns": null,
            "grid_template_rows": null,
            "height": null,
            "justify_content": null,
            "justify_items": null,
            "left": null,
            "margin": null,
            "max_height": null,
            "max_width": null,
            "min_height": null,
            "min_width": null,
            "object_fit": null,
            "object_position": null,
            "order": null,
            "overflow": null,
            "overflow_x": null,
            "overflow_y": null,
            "padding": null,
            "right": null,
            "top": null,
            "visibility": null,
            "width": null
          }
        }
      }
    }
  },
  "cells": [
    {
      "cell_type": "code",
      "execution_count": 5,
      "metadata": {
        "id": "29L9sPeSWYVN"
      },
      "outputs": [],
      "source": [
        "import pandas as pd\n",
        "import numpy as np\n",
        "import matplotlib.pyplot as plt\n",
        "import seaborn as sns"
      ]
    },
    {
      "cell_type": "code",
      "source": [
        "df = pd.read_csv('telco-customer-churn.csv', sep=',')\n",
        "\n",
        "df.head()"
      ],
      "metadata": {
        "colab": {
          "base_uri": "https://localhost:8080/",
          "height": 342
        },
        "id": "pD_bOBSZW34H",
        "outputId": "f583b6aa-21e4-4729-97e0-5c342ffcb15b"
      },
      "execution_count": 6,
      "outputs": [
        {
          "output_type": "execute_result",
          "data": {
            "text/plain": [
              "   customerID  gender  SeniorCitizen Partner Dependents  tenure PhoneService  \\\n",
              "0  7590-VHVEG  Female              0     Yes         No       1           No   \n",
              "1  5575-GNVDE    Male              0      No         No      34          Yes   \n",
              "2  3668-QPYBK    Male              0      No         No       2          Yes   \n",
              "3  7795-CFOCW    Male              0      No         No      45           No   \n",
              "4  9237-HQITU  Female              0      No         No       2          Yes   \n",
              "\n",
              "      MultipleLines InternetService OnlineSecurity  ... DeviceProtection  \\\n",
              "0  No phone service             DSL             No  ...               No   \n",
              "1                No             DSL            Yes  ...              Yes   \n",
              "2                No             DSL            Yes  ...               No   \n",
              "3  No phone service             DSL            Yes  ...              Yes   \n",
              "4                No     Fiber optic             No  ...               No   \n",
              "\n",
              "  TechSupport StreamingTV StreamingMovies        Contract PaperlessBilling  \\\n",
              "0          No          No              No  Month-to-month              Yes   \n",
              "1          No          No              No        One year               No   \n",
              "2          No          No              No  Month-to-month              Yes   \n",
              "3         Yes          No              No        One year               No   \n",
              "4          No          No              No  Month-to-month              Yes   \n",
              "\n",
              "               PaymentMethod MonthlyCharges  TotalCharges Churn  \n",
              "0           Electronic check          29.85         29.85    No  \n",
              "1               Mailed check          56.95        1889.5    No  \n",
              "2               Mailed check          53.85        108.15   Yes  \n",
              "3  Bank transfer (automatic)          42.30       1840.75    No  \n",
              "4           Electronic check          70.70        151.65   Yes  \n",
              "\n",
              "[5 rows x 21 columns]"
            ],
            "text/html": [
              "\n",
              "  <div id=\"df-cef4d987-e2a3-4220-bf77-ed11b93818a5\" class=\"colab-df-container\">\n",
              "    <div>\n",
              "<style scoped>\n",
              "    .dataframe tbody tr th:only-of-type {\n",
              "        vertical-align: middle;\n",
              "    }\n",
              "\n",
              "    .dataframe tbody tr th {\n",
              "        vertical-align: top;\n",
              "    }\n",
              "\n",
              "    .dataframe thead th {\n",
              "        text-align: right;\n",
              "    }\n",
              "</style>\n",
              "<table border=\"1\" class=\"dataframe\">\n",
              "  <thead>\n",
              "    <tr style=\"text-align: right;\">\n",
              "      <th></th>\n",
              "      <th>customerID</th>\n",
              "      <th>gender</th>\n",
              "      <th>SeniorCitizen</th>\n",
              "      <th>Partner</th>\n",
              "      <th>Dependents</th>\n",
              "      <th>tenure</th>\n",
              "      <th>PhoneService</th>\n",
              "      <th>MultipleLines</th>\n",
              "      <th>InternetService</th>\n",
              "      <th>OnlineSecurity</th>\n",
              "      <th>...</th>\n",
              "      <th>DeviceProtection</th>\n",
              "      <th>TechSupport</th>\n",
              "      <th>StreamingTV</th>\n",
              "      <th>StreamingMovies</th>\n",
              "      <th>Contract</th>\n",
              "      <th>PaperlessBilling</th>\n",
              "      <th>PaymentMethod</th>\n",
              "      <th>MonthlyCharges</th>\n",
              "      <th>TotalCharges</th>\n",
              "      <th>Churn</th>\n",
              "    </tr>\n",
              "  </thead>\n",
              "  <tbody>\n",
              "    <tr>\n",
              "      <th>0</th>\n",
              "      <td>7590-VHVEG</td>\n",
              "      <td>Female</td>\n",
              "      <td>0</td>\n",
              "      <td>Yes</td>\n",
              "      <td>No</td>\n",
              "      <td>1</td>\n",
              "      <td>No</td>\n",
              "      <td>No phone service</td>\n",
              "      <td>DSL</td>\n",
              "      <td>No</td>\n",
              "      <td>...</td>\n",
              "      <td>No</td>\n",
              "      <td>No</td>\n",
              "      <td>No</td>\n",
              "      <td>No</td>\n",
              "      <td>Month-to-month</td>\n",
              "      <td>Yes</td>\n",
              "      <td>Electronic check</td>\n",
              "      <td>29.85</td>\n",
              "      <td>29.85</td>\n",
              "      <td>No</td>\n",
              "    </tr>\n",
              "    <tr>\n",
              "      <th>1</th>\n",
              "      <td>5575-GNVDE</td>\n",
              "      <td>Male</td>\n",
              "      <td>0</td>\n",
              "      <td>No</td>\n",
              "      <td>No</td>\n",
              "      <td>34</td>\n",
              "      <td>Yes</td>\n",
              "      <td>No</td>\n",
              "      <td>DSL</td>\n",
              "      <td>Yes</td>\n",
              "      <td>...</td>\n",
              "      <td>Yes</td>\n",
              "      <td>No</td>\n",
              "      <td>No</td>\n",
              "      <td>No</td>\n",
              "      <td>One year</td>\n",
              "      <td>No</td>\n",
              "      <td>Mailed check</td>\n",
              "      <td>56.95</td>\n",
              "      <td>1889.5</td>\n",
              "      <td>No</td>\n",
              "    </tr>\n",
              "    <tr>\n",
              "      <th>2</th>\n",
              "      <td>3668-QPYBK</td>\n",
              "      <td>Male</td>\n",
              "      <td>0</td>\n",
              "      <td>No</td>\n",
              "      <td>No</td>\n",
              "      <td>2</td>\n",
              "      <td>Yes</td>\n",
              "      <td>No</td>\n",
              "      <td>DSL</td>\n",
              "      <td>Yes</td>\n",
              "      <td>...</td>\n",
              "      <td>No</td>\n",
              "      <td>No</td>\n",
              "      <td>No</td>\n",
              "      <td>No</td>\n",
              "      <td>Month-to-month</td>\n",
              "      <td>Yes</td>\n",
              "      <td>Mailed check</td>\n",
              "      <td>53.85</td>\n",
              "      <td>108.15</td>\n",
              "      <td>Yes</td>\n",
              "    </tr>\n",
              "    <tr>\n",
              "      <th>3</th>\n",
              "      <td>7795-CFOCW</td>\n",
              "      <td>Male</td>\n",
              "      <td>0</td>\n",
              "      <td>No</td>\n",
              "      <td>No</td>\n",
              "      <td>45</td>\n",
              "      <td>No</td>\n",
              "      <td>No phone service</td>\n",
              "      <td>DSL</td>\n",
              "      <td>Yes</td>\n",
              "      <td>...</td>\n",
              "      <td>Yes</td>\n",
              "      <td>Yes</td>\n",
              "      <td>No</td>\n",
              "      <td>No</td>\n",
              "      <td>One year</td>\n",
              "      <td>No</td>\n",
              "      <td>Bank transfer (automatic)</td>\n",
              "      <td>42.30</td>\n",
              "      <td>1840.75</td>\n",
              "      <td>No</td>\n",
              "    </tr>\n",
              "    <tr>\n",
              "      <th>4</th>\n",
              "      <td>9237-HQITU</td>\n",
              "      <td>Female</td>\n",
              "      <td>0</td>\n",
              "      <td>No</td>\n",
              "      <td>No</td>\n",
              "      <td>2</td>\n",
              "      <td>Yes</td>\n",
              "      <td>No</td>\n",
              "      <td>Fiber optic</td>\n",
              "      <td>No</td>\n",
              "      <td>...</td>\n",
              "      <td>No</td>\n",
              "      <td>No</td>\n",
              "      <td>No</td>\n",
              "      <td>No</td>\n",
              "      <td>Month-to-month</td>\n",
              "      <td>Yes</td>\n",
              "      <td>Electronic check</td>\n",
              "      <td>70.70</td>\n",
              "      <td>151.65</td>\n",
              "      <td>Yes</td>\n",
              "    </tr>\n",
              "  </tbody>\n",
              "</table>\n",
              "<p>5 rows × 21 columns</p>\n",
              "</div>\n",
              "    <div class=\"colab-df-buttons\">\n",
              "\n",
              "  <div class=\"colab-df-container\">\n",
              "    <button class=\"colab-df-convert\" onclick=\"convertToInteractive('df-cef4d987-e2a3-4220-bf77-ed11b93818a5')\"\n",
              "            title=\"Convert this dataframe to an interactive table.\"\n",
              "            style=\"display:none;\">\n",
              "\n",
              "  <svg xmlns=\"http://www.w3.org/2000/svg\" height=\"24px\" viewBox=\"0 -960 960 960\">\n",
              "    <path d=\"M120-120v-720h720v720H120Zm60-500h600v-160H180v160Zm220 220h160v-160H400v160Zm0 220h160v-160H400v160ZM180-400h160v-160H180v160Zm440 0h160v-160H620v160ZM180-180h160v-160H180v160Zm440 0h160v-160H620v160Z\"/>\n",
              "  </svg>\n",
              "    </button>\n",
              "\n",
              "  <style>\n",
              "    .colab-df-container {\n",
              "      display:flex;\n",
              "      gap: 12px;\n",
              "    }\n",
              "\n",
              "    .colab-df-convert {\n",
              "      background-color: #E8F0FE;\n",
              "      border: none;\n",
              "      border-radius: 50%;\n",
              "      cursor: pointer;\n",
              "      display: none;\n",
              "      fill: #1967D2;\n",
              "      height: 32px;\n",
              "      padding: 0 0 0 0;\n",
              "      width: 32px;\n",
              "    }\n",
              "\n",
              "    .colab-df-convert:hover {\n",
              "      background-color: #E2EBFA;\n",
              "      box-shadow: 0px 1px 2px rgba(60, 64, 67, 0.3), 0px 1px 3px 1px rgba(60, 64, 67, 0.15);\n",
              "      fill: #174EA6;\n",
              "    }\n",
              "\n",
              "    .colab-df-buttons div {\n",
              "      margin-bottom: 4px;\n",
              "    }\n",
              "\n",
              "    [theme=dark] .colab-df-convert {\n",
              "      background-color: #3B4455;\n",
              "      fill: #D2E3FC;\n",
              "    }\n",
              "\n",
              "    [theme=dark] .colab-df-convert:hover {\n",
              "      background-color: #434B5C;\n",
              "      box-shadow: 0px 1px 3px 1px rgba(0, 0, 0, 0.15);\n",
              "      filter: drop-shadow(0px 1px 2px rgba(0, 0, 0, 0.3));\n",
              "      fill: #FFFFFF;\n",
              "    }\n",
              "  </style>\n",
              "\n",
              "    <script>\n",
              "      const buttonEl =\n",
              "        document.querySelector('#df-cef4d987-e2a3-4220-bf77-ed11b93818a5 button.colab-df-convert');\n",
              "      buttonEl.style.display =\n",
              "        google.colab.kernel.accessAllowed ? 'block' : 'none';\n",
              "\n",
              "      async function convertToInteractive(key) {\n",
              "        const element = document.querySelector('#df-cef4d987-e2a3-4220-bf77-ed11b93818a5');\n",
              "        const dataTable =\n",
              "          await google.colab.kernel.invokeFunction('convertToInteractive',\n",
              "                                                    [key], {});\n",
              "        if (!dataTable) return;\n",
              "\n",
              "        const docLinkHtml = 'Like what you see? Visit the ' +\n",
              "          '<a target=\"_blank\" href=https://colab.research.google.com/notebooks/data_table.ipynb>data table notebook</a>'\n",
              "          + ' to learn more about interactive tables.';\n",
              "        element.innerHTML = '';\n",
              "        dataTable['output_type'] = 'display_data';\n",
              "        await google.colab.output.renderOutput(dataTable, element);\n",
              "        const docLink = document.createElement('div');\n",
              "        docLink.innerHTML = docLinkHtml;\n",
              "        element.appendChild(docLink);\n",
              "      }\n",
              "    </script>\n",
              "  </div>\n",
              "\n",
              "\n",
              "    <div id=\"df-28aa0474-635f-453e-a8f6-b15e8690c62f\">\n",
              "      <button class=\"colab-df-quickchart\" onclick=\"quickchart('df-28aa0474-635f-453e-a8f6-b15e8690c62f')\"\n",
              "                title=\"Suggest charts\"\n",
              "                style=\"display:none;\">\n",
              "\n",
              "<svg xmlns=\"http://www.w3.org/2000/svg\" height=\"24px\"viewBox=\"0 0 24 24\"\n",
              "     width=\"24px\">\n",
              "    <g>\n",
              "        <path d=\"M19 3H5c-1.1 0-2 .9-2 2v14c0 1.1.9 2 2 2h14c1.1 0 2-.9 2-2V5c0-1.1-.9-2-2-2zM9 17H7v-7h2v7zm4 0h-2V7h2v10zm4 0h-2v-4h2v4z\"/>\n",
              "    </g>\n",
              "</svg>\n",
              "      </button>\n",
              "\n",
              "<style>\n",
              "  .colab-df-quickchart {\n",
              "      --bg-color: #E8F0FE;\n",
              "      --fill-color: #1967D2;\n",
              "      --hover-bg-color: #E2EBFA;\n",
              "      --hover-fill-color: #174EA6;\n",
              "      --disabled-fill-color: #AAA;\n",
              "      --disabled-bg-color: #DDD;\n",
              "  }\n",
              "\n",
              "  [theme=dark] .colab-df-quickchart {\n",
              "      --bg-color: #3B4455;\n",
              "      --fill-color: #D2E3FC;\n",
              "      --hover-bg-color: #434B5C;\n",
              "      --hover-fill-color: #FFFFFF;\n",
              "      --disabled-bg-color: #3B4455;\n",
              "      --disabled-fill-color: #666;\n",
              "  }\n",
              "\n",
              "  .colab-df-quickchart {\n",
              "    background-color: var(--bg-color);\n",
              "    border: none;\n",
              "    border-radius: 50%;\n",
              "    cursor: pointer;\n",
              "    display: none;\n",
              "    fill: var(--fill-color);\n",
              "    height: 32px;\n",
              "    padding: 0;\n",
              "    width: 32px;\n",
              "  }\n",
              "\n",
              "  .colab-df-quickchart:hover {\n",
              "    background-color: var(--hover-bg-color);\n",
              "    box-shadow: 0 1px 2px rgba(60, 64, 67, 0.3), 0 1px 3px 1px rgba(60, 64, 67, 0.15);\n",
              "    fill: var(--button-hover-fill-color);\n",
              "  }\n",
              "\n",
              "  .colab-df-quickchart-complete:disabled,\n",
              "  .colab-df-quickchart-complete:disabled:hover {\n",
              "    background-color: var(--disabled-bg-color);\n",
              "    fill: var(--disabled-fill-color);\n",
              "    box-shadow: none;\n",
              "  }\n",
              "\n",
              "  .colab-df-spinner {\n",
              "    border: 2px solid var(--fill-color);\n",
              "    border-color: transparent;\n",
              "    border-bottom-color: var(--fill-color);\n",
              "    animation:\n",
              "      spin 1s steps(1) infinite;\n",
              "  }\n",
              "\n",
              "  @keyframes spin {\n",
              "    0% {\n",
              "      border-color: transparent;\n",
              "      border-bottom-color: var(--fill-color);\n",
              "      border-left-color: var(--fill-color);\n",
              "    }\n",
              "    20% {\n",
              "      border-color: transparent;\n",
              "      border-left-color: var(--fill-color);\n",
              "      border-top-color: var(--fill-color);\n",
              "    }\n",
              "    30% {\n",
              "      border-color: transparent;\n",
              "      border-left-color: var(--fill-color);\n",
              "      border-top-color: var(--fill-color);\n",
              "      border-right-color: var(--fill-color);\n",
              "    }\n",
              "    40% {\n",
              "      border-color: transparent;\n",
              "      border-right-color: var(--fill-color);\n",
              "      border-top-color: var(--fill-color);\n",
              "    }\n",
              "    60% {\n",
              "      border-color: transparent;\n",
              "      border-right-color: var(--fill-color);\n",
              "    }\n",
              "    80% {\n",
              "      border-color: transparent;\n",
              "      border-right-color: var(--fill-color);\n",
              "      border-bottom-color: var(--fill-color);\n",
              "    }\n",
              "    90% {\n",
              "      border-color: transparent;\n",
              "      border-bottom-color: var(--fill-color);\n",
              "    }\n",
              "  }\n",
              "</style>\n",
              "\n",
              "      <script>\n",
              "        async function quickchart(key) {\n",
              "          const quickchartButtonEl =\n",
              "            document.querySelector('#' + key + ' button');\n",
              "          quickchartButtonEl.disabled = true;  // To prevent multiple clicks.\n",
              "          quickchartButtonEl.classList.add('colab-df-spinner');\n",
              "          try {\n",
              "            const charts = await google.colab.kernel.invokeFunction(\n",
              "                'suggestCharts', [key], {});\n",
              "          } catch (error) {\n",
              "            console.error('Error during call to suggestCharts:', error);\n",
              "          }\n",
              "          quickchartButtonEl.classList.remove('colab-df-spinner');\n",
              "          quickchartButtonEl.classList.add('colab-df-quickchart-complete');\n",
              "        }\n",
              "        (() => {\n",
              "          let quickchartButtonEl =\n",
              "            document.querySelector('#df-28aa0474-635f-453e-a8f6-b15e8690c62f button');\n",
              "          quickchartButtonEl.style.display =\n",
              "            google.colab.kernel.accessAllowed ? 'block' : 'none';\n",
              "        })();\n",
              "      </script>\n",
              "    </div>\n",
              "\n",
              "    </div>\n",
              "  </div>\n"
            ],
            "application/vnd.google.colaboratory.intrinsic+json": {
              "type": "dataframe",
              "variable_name": "df"
            }
          },
          "metadata": {},
          "execution_count": 6
        }
      ]
    },
    {
      "cell_type": "code",
      "source": [
        "# Tampilkan informasi dasar\n",
        "print(\"Info Dataset:\")\n",
        "print(df.info())\n",
        "print(\"\\nContoh Data (5 baris pertama):\")\n",
        "print(df.head())\n",
        "print(\"\\nStatistik Deskriptif:\")\n",
        "print(df.describe())"
      ],
      "metadata": {
        "colab": {
          "base_uri": "https://localhost:8080/"
        },
        "id": "_SZprh2cWi53",
        "outputId": "5618cf97-de94-4d91-f38b-de9d2a589779"
      },
      "execution_count": 7,
      "outputs": [
        {
          "output_type": "stream",
          "name": "stdout",
          "text": [
            "Info Dataset:\n",
            "<class 'pandas.core.frame.DataFrame'>\n",
            "RangeIndex: 7043 entries, 0 to 7042\n",
            "Data columns (total 21 columns):\n",
            " #   Column            Non-Null Count  Dtype  \n",
            "---  ------            --------------  -----  \n",
            " 0   customerID        7043 non-null   object \n",
            " 1   gender            7043 non-null   object \n",
            " 2   SeniorCitizen     7043 non-null   int64  \n",
            " 3   Partner           7043 non-null   object \n",
            " 4   Dependents        7043 non-null   object \n",
            " 5   tenure            7043 non-null   int64  \n",
            " 6   PhoneService      7043 non-null   object \n",
            " 7   MultipleLines     7043 non-null   object \n",
            " 8   InternetService   7043 non-null   object \n",
            " 9   OnlineSecurity    7043 non-null   object \n",
            " 10  OnlineBackup      7043 non-null   object \n",
            " 11  DeviceProtection  7043 non-null   object \n",
            " 12  TechSupport       7043 non-null   object \n",
            " 13  StreamingTV       7043 non-null   object \n",
            " 14  StreamingMovies   7043 non-null   object \n",
            " 15  Contract          7043 non-null   object \n",
            " 16  PaperlessBilling  7043 non-null   object \n",
            " 17  PaymentMethod     7043 non-null   object \n",
            " 18  MonthlyCharges    7043 non-null   float64\n",
            " 19  TotalCharges      7043 non-null   object \n",
            " 20  Churn             7043 non-null   object \n",
            "dtypes: float64(1), int64(2), object(18)\n",
            "memory usage: 1.1+ MB\n",
            "None\n",
            "\n",
            "Contoh Data (5 baris pertama):\n",
            "   customerID  gender  SeniorCitizen Partner Dependents  tenure PhoneService  \\\n",
            "0  7590-VHVEG  Female              0     Yes         No       1           No   \n",
            "1  5575-GNVDE    Male              0      No         No      34          Yes   \n",
            "2  3668-QPYBK    Male              0      No         No       2          Yes   \n",
            "3  7795-CFOCW    Male              0      No         No      45           No   \n",
            "4  9237-HQITU  Female              0      No         No       2          Yes   \n",
            "\n",
            "      MultipleLines InternetService OnlineSecurity  ... DeviceProtection  \\\n",
            "0  No phone service             DSL             No  ...               No   \n",
            "1                No             DSL            Yes  ...              Yes   \n",
            "2                No             DSL            Yes  ...               No   \n",
            "3  No phone service             DSL            Yes  ...              Yes   \n",
            "4                No     Fiber optic             No  ...               No   \n",
            "\n",
            "  TechSupport StreamingTV StreamingMovies        Contract PaperlessBilling  \\\n",
            "0          No          No              No  Month-to-month              Yes   \n",
            "1          No          No              No        One year               No   \n",
            "2          No          No              No  Month-to-month              Yes   \n",
            "3         Yes          No              No        One year               No   \n",
            "4          No          No              No  Month-to-month              Yes   \n",
            "\n",
            "               PaymentMethod MonthlyCharges  TotalCharges Churn  \n",
            "0           Electronic check          29.85         29.85    No  \n",
            "1               Mailed check          56.95        1889.5    No  \n",
            "2               Mailed check          53.85        108.15   Yes  \n",
            "3  Bank transfer (automatic)          42.30       1840.75    No  \n",
            "4           Electronic check          70.70        151.65   Yes  \n",
            "\n",
            "[5 rows x 21 columns]\n",
            "\n",
            "Statistik Deskriptif:\n",
            "       SeniorCitizen       tenure  MonthlyCharges\n",
            "count    7043.000000  7043.000000     7043.000000\n",
            "mean        0.162147    32.371149       64.761692\n",
            "std         0.368612    24.559481       30.090047\n",
            "min         0.000000     0.000000       18.250000\n",
            "25%         0.000000     9.000000       35.500000\n",
            "50%         0.000000    29.000000       70.350000\n",
            "75%         0.000000    55.000000       89.850000\n",
            "max         1.000000    72.000000      118.750000\n"
          ]
        }
      ]
    },
    {
      "cell_type": "code",
      "source": [
        "df['TotalCharges'] = pd.to_numeric(df['TotalCharges'], errors='coerce')\n",
        "print(df['TotalCharges'].isnull().sum())  # Cek ada berapa null setelah konversi"
      ],
      "metadata": {
        "colab": {
          "base_uri": "https://localhost:8080/"
        },
        "id": "-QECN2KmW18q",
        "outputId": "e7d79ff0-c7b9-4f1a-aafe-edb24d0ea357"
      },
      "execution_count": 8,
      "outputs": [
        {
          "output_type": "stream",
          "name": "stdout",
          "text": [
            "11\n"
          ]
        }
      ]
    },
    {
      "cell_type": "code",
      "source": [
        "df = df.dropna(subset=['TotalCharges'])\n",
        "print(df['TotalCharges'].isnull().sum())  # Cek ada berapa null setelah konversi"
      ],
      "metadata": {
        "colab": {
          "base_uri": "https://localhost:8080/"
        },
        "id": "n6M7qtwxXYpP",
        "outputId": "17bf9b35-9c5c-4067-a846-b6d6ee49f9f0"
      },
      "execution_count": 9,
      "outputs": [
        {
          "output_type": "stream",
          "name": "stdout",
          "text": [
            "0\n"
          ]
        }
      ]
    },
    {
      "cell_type": "code",
      "source": [
        "# Cek missing values\n",
        "print(\"\\nMissing Values:\")\n",
        "print(df.isnull().sum())"
      ],
      "metadata": {
        "colab": {
          "base_uri": "https://localhost:8080/"
        },
        "id": "6l2sh7qdXcVR",
        "outputId": "9646fdd5-b291-484f-b382-af3a824a47c7"
      },
      "execution_count": 10,
      "outputs": [
        {
          "output_type": "stream",
          "name": "stdout",
          "text": [
            "\n",
            "Missing Values:\n",
            "customerID          0\n",
            "gender              0\n",
            "SeniorCitizen       0\n",
            "Partner             0\n",
            "Dependents          0\n",
            "tenure              0\n",
            "PhoneService        0\n",
            "MultipleLines       0\n",
            "InternetService     0\n",
            "OnlineSecurity      0\n",
            "OnlineBackup        0\n",
            "DeviceProtection    0\n",
            "TechSupport         0\n",
            "StreamingTV         0\n",
            "StreamingMovies     0\n",
            "Contract            0\n",
            "PaperlessBilling    0\n",
            "PaymentMethod       0\n",
            "MonthlyCharges      0\n",
            "TotalCharges        0\n",
            "Churn               0\n",
            "dtype: int64\n"
          ]
        }
      ]
    },
    {
      "cell_type": "code",
      "source": [
        "# Distribusi target (Churn)\n",
        "plt.figure(figsize=(6,4))\n",
        "sns.countplot(x='Churn', data=df)\n",
        "plt.title('Distribusi Churn')\n",
        "plt.show()"
      ],
      "metadata": {
        "colab": {
          "base_uri": "https://localhost:8080/",
          "height": 410
        },
        "id": "cxs5FXAvXjl0",
        "outputId": "1da99d8a-ff0d-4882-dfcc-a3d65db6fdfc"
      },
      "execution_count": 13,
      "outputs": [
        {
          "output_type": "display_data",
          "data": {
            "text/plain": [
              "<Figure size 600x400 with 1 Axes>"
            ],
            "image/png": "[encoded data removed]"
          },
          "metadata": {}
        }
      ]
    },
    {
      "cell_type": "code",
      "source": [
        "# Distribusi fitur numerik\n",
        "numeric_cols = ['tenure', 'MonthlyCharges', 'TotalCharges']\n",
        "for col in numeric_cols:\n",
        "    plt.figure(figsize=(6,4))\n",
        "    sns.histplot(df[col], kde=True)\n",
        "    plt.title(f'Distribusi {col}')\n",
        "    plt.show()"
      ],
      "metadata": {
        "colab": {
          "base_uri": "https://localhost:8080/",
          "height": 1000
        },
        "id": "qQpIOh91XuHV",
        "outputId": "1789c47d-2f9a-45b7-94cc-d1eabcd5d3b6"
      },
      "execution_count": 14,
      "outputs": [
        {
          "output_type": "display_data",
          "data": {
            "text/plain": [
              "<Figure size 600x400 with 1 Axes>"
            ],
            "image/png": "[encoded data removed]"
          },
          "metadata": {}
        },
        {
          "output_type": "display_data",
          "data": {
            "text/plain": [
              "<Figure size 600x400 with 1 Axes>"
            ],
            "image/png": "[encoded data removed]"
          },
          "metadata": {}
        },
        {
          "output_type": "display_data",
          "data": {
            "text/plain": [
              "<Figure size 600x400 with 1 Axes>"
            ],
            "image/png": "[encoded data removed]"
          },
          "metadata": {}
        }
      ]
    },
    {
      "cell_type": "markdown",
      "source": [
        "**Data Cleaning dan Exploratory Data Analysis (EDA)**"
      ],
      "metadata": {
        "id": "ORYYhg1-X66J"
      }
    },
    {
      "cell_type": "code",
      "source": [
        "# Drop kolom tidak relevan\n",
        "df = df.drop('customerID', axis=1)"
      ],
      "metadata": {
        "id": "HVmTSj-VX3E4"
      },
      "execution_count": 15,
      "outputs": []
    },
    {
      "cell_type": "code",
      "source": [
        "# Konversi target Churn ke biner (0/1)\n",
        "df['Churn'] = df['Churn'].map({'No': 0, 'Yes': 1})"
      ],
      "metadata": {
        "id": "yMJKwRJKX9Y4"
      },
      "execution_count": 16,
      "outputs": []
    },
    {
      "cell_type": "code",
      "source": [
        "# EDA: Korelasi fitur numerik\n",
        "plt.figure(figsize=(8,6))\n",
        "sns.heatmap(df[numeric_cols + ['Churn']].corr(), annot=True, cmap='coolwarm')\n",
        "plt.title('Korelasi Fitur Numerik dengan Churn')\n",
        "plt.show()"
      ],
      "metadata": {
        "colab": {
          "base_uri": "https://localhost:8080/",
          "height": 545
        },
        "id": "_Ng6euAXYBPy",
        "outputId": "22c86685-b8a5-4ced-f0da-6f42785c0621"
      },
      "execution_count": 17,
      "outputs": [
        {
          "output_type": "display_data",
          "data": {
            "text/plain": [
              "<Figure size 800x600 with 2 Axes>"
            ],
            "image/png": "[encoded data removed]"
          },
          "metadata": {}
        }
      ]
    },
    {
      "cell_type": "code",
      "source": [
        "# EDA: Hubungan fitur kategorikal dengan Churn\n",
        "categorical_cols = ['gender', 'Contract', 'InternetService', 'PaymentMethod']\n",
        "for col in categorical_cols:\n",
        "    plt.figure(figsize=(8,4))\n",
        "    sns.countplot(x=col, hue='Churn', data=df)\n",
        "    plt.title(f'Hubungan {col} dengan Churn')\n",
        "    plt.xticks(rotation=45)\n",
        "    plt.show()"
      ],
      "metadata": {
        "colab": {
          "base_uri": "https://localhost:8080/",
          "height": 1000
        },
        "id": "fXbdntj3YHS7",
        "outputId": "967db40a-7bc0-4b1e-b883-cfb39f97a65c"
      },
      "execution_count": 18,
      "outputs": [
        {
          "output_type": "display_data",
          "data": {
            "text/plain": [
              "<Figure size 800x400 with 1 Axes>"
            ],
            "image/png": "[encoded data removed]"
          },
          "metadata": {}
        },
        {
          "output_type": "display_data",
          "data": {
            "text/plain": [
              "<Figure size 800x400 with 1 Axes>"
            ],
            "image/png": "[encoded data removed]"
          },
          "metadata": {}
        },
        {
          "output_type": "display_data",
          "data": {
            "text/plain": [
              "<Figure size 800x400 with 1 Axes>"
            ],
            "image/png": "[encoded data removed]"
          },
          "metadata": {}
        },
        {
          "output_type": "display_data",
          "data": {
            "text/plain": [
              "<Figure size 800x400 with 1 Axes>"
            ],
            "image/png": "[encoded data removed]"
          },
          "metadata": {}
        }
      ]
    },
    {
      "cell_type": "code",
      "source": [
        "# Simpan dataset yang sudah dibersihkan\n",
        "df.to_csv('cleaned_telco_data.csv', index=False)"
      ],
      "metadata": {
        "id": "DIPRxj9TYNss"
      },
      "execution_count": 19,
      "outputs": []
    },
    {
      "cell_type": "markdown",
      "source": [
        "**Feature Engineering** \\\n",
        "Tujuan: Membuat fitur baru dan mempersiapkan data untuk modeling."
      ],
      "metadata": {
        "id": "XIgm92JzYS3U"
      }
    },
    {
      "cell_type": "code",
      "source": [
        "# Feature engineering: Buat fitur baru\n",
        "df['AvgMonthlyCharges'] = df['TotalCharges'] / (df['tenure'] + 1)  # Hindari pembagian dengan 0"
      ],
      "metadata": {
        "id": "rqXEG8d0YXNl"
      },
      "execution_count": 20,
      "outputs": []
    },
    {
      "cell_type": "code",
      "source": [
        "# One-Hot Encoding untuk fitur kategorikal\n",
        "categorical_cols = ['gender', 'Partner', 'Dependents', 'PhoneService', 'MultipleLines',\n",
        "                    'InternetService', 'OnlineSecurity', 'OnlineBackup', 'DeviceProtection',\n",
        "                    'TechSupport', 'StreamingTV', 'StreamingMovies', 'Contract', 'PaperlessBilling',\n",
        "                    'PaymentMethod']\n",
        "df = pd.get_dummies(df, columns=categorical_cols, drop_first=True)"
      ],
      "metadata": {
        "id": "uRYqzURqYdEX"
      },
      "execution_count": 21,
      "outputs": []
    },
    {
      "cell_type": "code",
      "source": [
        "from sklearn.preprocessing import StandardScaler # Import StandardScaler\n",
        "\n",
        "# Skalasi fitur numerik\n",
        "scaler = StandardScaler()\n",
        "numeric_cols = ['tenure', 'MonthlyCharges', 'TotalCharges', 'AvgMonthlyCharges']\n",
        "df[numeric_cols] = scaler.fit_transform(df[numeric_cols])"
      ],
      "metadata": {
        "id": "ZaBBQr2FYe51"
      },
      "execution_count": 24,
      "outputs": []
    },
    {
      "cell_type": "code",
      "source": [
        "# Simpan dataset yang sudah diproses\n",
        "df.to_csv('processed_telco_data.csv', index=False)"
      ],
      "metadata": {
        "id": "igvcjHIxYlPv"
      },
      "execution_count": 25,
      "outputs": []
    },
    {
      "cell_type": "markdown",
      "source": [
        "**Modeling dengan PyCaret (Classification)** \\\n",
        "Tujuan: Membangun model klasifikasi menggunakan PyCaret untuk memprediksi churn."
      ],
      "metadata": {
        "id": "BKympzGbYsaA"
      }
    },
    {
      "cell_type": "code",
      "source": [
        "from pycaret.classification import *\n",
        "import pandas as pd"
      ],
      "metadata": {
        "id": "baTpfiKyYu3Y"
      },
      "execution_count": 26,
      "outputs": []
    },
    {
      "cell_type": "code",
      "source": [
        "# Setup PyCaret\n",
        "clf = setup(data=df, target='Churn', session_id=123, normalize=True,\n",
        "            remove_multicollinearity=True, multicollinearity_threshold=0.95)"
      ],
      "metadata": {
        "colab": {
          "base_uri": "https://localhost:8080/",
          "height": 770
        },
        "id": "hOV8hLbbY3sm",
        "outputId": "83051f22-4340-4940-a5f9-714131d3d292"
      },
      "execution_count": 28,
      "outputs": [
        {
          "output_type": "display_data",
          "data": {
            "text/plain": [
              "<pandas.io.formats.style.Styler at 0x7cb85e49e350>"
            ],
            "text/html": [
              "<style type=\"text/css\">\n",
              "#T_9352d_row8_col1, #T_9352d_row12_col1, #T_9352d_row14_col1 {\n",
              "  background-color: lightgreen;\n",
              "}\n",
              "</style>\n",
              "<table id=\"T_9352d\" class=\"dataframe\">\n",
              "  <thead>\n",
              "    <tr>\n",
              "      <th class=\"blank level0\" >&nbsp;</th>\n",
              "      <th id=\"T_9352d_level0_col0\" class=\"col_heading level0 col0\" >Description</th>\n",
              "      <th id=\"T_9352d_level0_col1\" class=\"col_heading level0 col1\" >Value</th>\n",
              "    </tr>\n",
              "  </thead>\n",
              "  <tbody>\n",
              "    <tr>\n",
              "      <th id=\"T_9352d_level0_row0\" class=\"row_heading level0 row0\" >0</th>\n",
              "      <td id=\"T_9352d_row0_col0\" class=\"data row0 col0\" >Session id</td>\n",
              "      <td id=\"T_9352d_row0_col1\" class=\"data row0 col1\" >123</td>\n",
              "    </tr>\n",
              "    <tr>\n",
              "      <th id=\"T_9352d_level0_row1\" class=\"row_heading level0 row1\" >1</th>\n",
              "      <td id=\"T_9352d_row1_col0\" class=\"data row1 col0\" >Target</td>\n",
              "      <td id=\"T_9352d_row1_col1\" class=\"data row1 col1\" >Churn</td>\n",
              "    </tr>\n",
              "    <tr>\n",
              "      <th id=\"T_9352d_level0_row2\" class=\"row_heading level0 row2\" >2</th>\n",
              "      <td id=\"T_9352d_row2_col0\" class=\"data row2 col0\" >Target type</td>\n",
              "      <td id=\"T_9352d_row2_col1\" class=\"data row2 col1\" >Binary</td>\n",
              "    </tr>\n",
              "    <tr>\n",
              "      <th id=\"T_9352d_level0_row3\" class=\"row_heading level0 row3\" >3</th>\n",
              "      <td id=\"T_9352d_row3_col0\" class=\"data row3 col0\" >Original data shape</td>\n",
              "      <td id=\"T_9352d_row3_col1\" class=\"data row3 col1\" >(7032, 32)</td>\n",
              "    </tr>\n",
              "    <tr>\n",
              "      <th id=\"T_9352d_level0_row4\" class=\"row_heading level0 row4\" >4</th>\n",
              "      <td id=\"T_9352d_row4_col0\" class=\"data row4 col0\" >Transformed data shape</td>\n",
              "      <td id=\"T_9352d_row4_col1\" class=\"data row4 col1\" >(7032, 25)</td>\n",
              "    </tr>\n",
              "    <tr>\n",
              "      <th id=\"T_9352d_level0_row5\" class=\"row_heading level0 row5\" >5</th>\n",
              "      <td id=\"T_9352d_row5_col0\" class=\"data row5 col0\" >Transformed train set shape</td>\n",
              "      <td id=\"T_9352d_row5_col1\" class=\"data row5 col1\" >(4922, 25)</td>\n",
              "    </tr>\n",
              "    <tr>\n",
              "      <th id=\"T_9352d_level0_row6\" class=\"row_heading level0 row6\" >6</th>\n",
              "      <td id=\"T_9352d_row6_col0\" class=\"data row6 col0\" >Transformed test set shape</td>\n",
              "      <td id=\"T_9352d_row6_col1\" class=\"data row6 col1\" >(2110, 25)</td>\n",
              "    </tr>\n",
              "    <tr>\n",
              "      <th id=\"T_9352d_level0_row7\" class=\"row_heading level0 row7\" >7</th>\n",
              "      <td id=\"T_9352d_row7_col0\" class=\"data row7 col0\" >Numeric features</td>\n",
              "      <td id=\"T_9352d_row7_col1\" class=\"data row7 col1\" >5</td>\n",
              "    </tr>\n",
              "    <tr>\n",
              "      <th id=\"T_9352d_level0_row8\" class=\"row_heading level0 row8\" >8</th>\n",
              "      <td id=\"T_9352d_row8_col0\" class=\"data row8 col0\" >Preprocess</td>\n",
              "      <td id=\"T_9352d_row8_col1\" class=\"data row8 col1\" >True</td>\n",
              "    </tr>\n",
              "    <tr>\n",
              "      <th id=\"T_9352d_level0_row9\" class=\"row_heading level0 row9\" >9</th>\n",
              "      <td id=\"T_9352d_row9_col0\" class=\"data row9 col0\" >Imputation type</td>\n",
              "      <td id=\"T_9352d_row9_col1\" class=\"data row9 col1\" >simple</td>\n",
              "    </tr>\n",
              "    <tr>\n",
              "      <th id=\"T_9352d_level0_row10\" class=\"row_heading level0 row10\" >10</th>\n",
              "      <td id=\"T_9352d_row10_col0\" class=\"data row10 col0\" >Numeric imputation</td>\n",
              "      <td id=\"T_9352d_row10_col1\" class=\"data row10 col1\" >mean</td>\n",
              "    </tr>\n",
              "    <tr>\n",
              "      <th id=\"T_9352d_level0_row11\" class=\"row_heading level0 row11\" >11</th>\n",
              "      <td id=\"T_9352d_row11_col0\" class=\"data row11 col0\" >Categorical imputation</td>\n",
              "      <td id=\"T_9352d_row11_col1\" class=\"data row11 col1\" >mode</td>\n",
              "    </tr>\n",
              "    <tr>\n",
              "      <th id=\"T_9352d_level0_row12\" class=\"row_heading level0 row12\" >12</th>\n",
              "      <td id=\"T_9352d_row12_col0\" class=\"data row12 col0\" >Remove multicollinearity</td>\n",
              "      <td id=\"T_9352d_row12_col1\" class=\"data row12 col1\" >True</td>\n",
              "    </tr>\n",
              "    <tr>\n",
              "      <th id=\"T_9352d_level0_row13\" class=\"row_heading level0 row13\" >13</th>\n",
              "      <td id=\"T_9352d_row13_col0\" class=\"data row13 col0\" >Multicollinearity threshold</td>\n",
              "      <td id=\"T_9352d_row13_col1\" class=\"data row13 col1\" >0.950000</td>\n",
              "    </tr>\n",
              "    <tr>\n",
              "      <th id=\"T_9352d_level0_row14\" class=\"row_heading level0 row14\" >14</th>\n",
              "      <td id=\"T_9352d_row14_col0\" class=\"data row14 col0\" >Normalize</td>\n",
              "      <td id=\"T_9352d_row14_col1\" class=\"data row14 col1\" >True</td>\n",
              "    </tr>\n",
              "    <tr>\n",
              "      <th id=\"T_9352d_level0_row15\" class=\"row_heading level0 row15\" >15</th>\n",
              "      <td id=\"T_9352d_row15_col0\" class=\"data row15 col0\" >Normalize method</td>\n",
              "      <td id=\"T_9352d_row15_col1\" class=\"data row15 col1\" >zscore</td>\n",
              "    </tr>\n",
              "    <tr>\n",
              "      <th id=\"T_9352d_level0_row16\" class=\"row_heading level0 row16\" >16</th>\n",
              "      <td id=\"T_9352d_row16_col0\" class=\"data row16 col0\" >Fold Generator</td>\n",
              "      <td id=\"T_9352d_row16_col1\" class=\"data row16 col1\" >StratifiedKFold</td>\n",
              "    </tr>\n",
              "    <tr>\n",
              "      <th id=\"T_9352d_level0_row17\" class=\"row_heading level0 row17\" >17</th>\n",
              "      <td id=\"T_9352d_row17_col0\" class=\"data row17 col0\" >Fold Number</td>\n",
              "      <td id=\"T_9352d_row17_col1\" class=\"data row17 col1\" >10</td>\n",
              "    </tr>\n",
              "    <tr>\n",
              "      <th id=\"T_9352d_level0_row18\" class=\"row_heading level0 row18\" >18</th>\n",
              "      <td id=\"T_9352d_row18_col0\" class=\"data row18 col0\" >CPU Jobs</td>\n",
              "      <td id=\"T_9352d_row18_col1\" class=\"data row18 col1\" >-1</td>\n",
              "    </tr>\n",
              "    <tr>\n",
              "      <th id=\"T_9352d_level0_row19\" class=\"row_heading level0 row19\" >19</th>\n",
              "      <td id=\"T_9352d_row19_col0\" class=\"data row19 col0\" >Use GPU</td>\n",
              "      <td id=\"T_9352d_row19_col1\" class=\"data row19 col1\" >False</td>\n",
              "    </tr>\n",
              "    <tr>\n",
              "      <th id=\"T_9352d_level0_row20\" class=\"row_heading level0 row20\" >20</th>\n",
              "      <td id=\"T_9352d_row20_col0\" class=\"data row20 col0\" >Log Experiment</td>\n",
              "      <td id=\"T_9352d_row20_col1\" class=\"data row20 col1\" >False</td>\n",
              "    </tr>\n",
              "    <tr>\n",
              "      <th id=\"T_9352d_level0_row21\" class=\"row_heading level0 row21\" >21</th>\n",
              "      <td id=\"T_9352d_row21_col0\" class=\"data row21 col0\" >Experiment Name</td>\n",
              "      <td id=\"T_9352d_row21_col1\" class=\"data row21 col1\" >clf-default-name</td>\n",
              "    </tr>\n",
              "    <tr>\n",
              "      <th id=\"T_9352d_level0_row22\" class=\"row_heading level0 row22\" >22</th>\n",
              "      <td id=\"T_9352d_row22_col0\" class=\"data row22 col0\" >USI</td>\n",
              "      <td id=\"T_9352d_row22_col1\" class=\"data row22 col1\" >0b1a</td>\n",
              "    </tr>\n",
              "  </tbody>\n",
              "</table>\n"
            ]
          },
          "metadata": {}
        }
      ]
    },
    {
      "cell_type": "code",
      "source": [
        "# Bandingkan model\n",
        "best_model = compare_models()"
      ],
      "metadata": {
        "colab": {
          "base_uri": "https://localhost:8080/",
          "height": 519,
          "referenced_widgets": [
            "0c2106fdf0ae42cf89d971d2798a0d1c",
            "e280c8c8420e41d695f2a54c55e4f9bc",
            "4210aa907d544ba8a4a681a86b3e933e",
            "164cdfc45f054902b70695b7d3c2b1e3",
            "17f4dc7f56b24716891529f4cf6d899b",
            "1ce96d0cd0994fe48482561f6d846cb4",
            "56a20de6e36246929582ccecc1c8425b",
            "ff947381733140249c75ebc49d820791",
            "3c4180743dcb4d8ab6cde50fed406b6f",
            "41130940641d48f1a210d00037cfcaaf",
            "ddacc92cb8fb41eb9d4c54b10802f39a"
          ]
        },
        "id": "tLNlyEjkZnF1",
        "outputId": "aa74b142-d01b-455e-ba67-554b43f5948e"
      },
      "execution_count": 29,
      "outputs": [
        {
          "output_type": "display_data",
          "data": {
            "text/plain": [
              "<IPython.core.display.HTML object>"
            ],
            "text/html": []
          },
          "metadata": {}
        },
        {
          "output_type": "display_data",
          "data": {
            "text/plain": [
              "<pandas.io.formats.style.Styler at 0x7cb856857290>"
            ],
            "text/html": [
              "<style type=\"text/css\">\n",
              "#T_aa9d7 th {\n",
              "  text-align: left;\n",
              "}\n",
              "#T_aa9d7_row0_col0, #T_aa9d7_row0_col2, #T_aa9d7_row0_col3, #T_aa9d7_row0_col4, #T_aa9d7_row0_col5, #T_aa9d7_row1_col0, #T_aa9d7_row1_col1, #T_aa9d7_row1_col3, #T_aa9d7_row1_col5, #T_aa9d7_row1_col6, #T_aa9d7_row1_col7, #T_aa9d7_row2_col0, #T_aa9d7_row2_col1, #T_aa9d7_row2_col2, #T_aa9d7_row2_col3, #T_aa9d7_row2_col4, #T_aa9d7_row2_col5, #T_aa9d7_row2_col6, #T_aa9d7_row2_col7, #T_aa9d7_row3_col0, #T_aa9d7_row3_col1, #T_aa9d7_row3_col2, #T_aa9d7_row3_col3, #T_aa9d7_row3_col4, #T_aa9d7_row3_col5, #T_aa9d7_row3_col6, #T_aa9d7_row3_col7, #T_aa9d7_row4_col0, #T_aa9d7_row4_col1, #T_aa9d7_row4_col2, #T_aa9d7_row4_col3, #T_aa9d7_row4_col4, #T_aa9d7_row4_col5, #T_aa9d7_row4_col6, #T_aa9d7_row4_col7, #T_aa9d7_row5_col0, #T_aa9d7_row5_col1, #T_aa9d7_row5_col2, #T_aa9d7_row5_col3, #T_aa9d7_row5_col4, #T_aa9d7_row5_col5, #T_aa9d7_row5_col6, #T_aa9d7_row5_col7, #T_aa9d7_row6_col0, #T_aa9d7_row6_col1, #T_aa9d7_row6_col2, #T_aa9d7_row6_col3, #T_aa9d7_row6_col4, #T_aa9d7_row6_col5, #T_aa9d7_row6_col6, #T_aa9d7_row6_col7, #T_aa9d7_row7_col0, #T_aa9d7_row7_col1, #T_aa9d7_row7_col2, #T_aa9d7_row7_col3, #T_aa9d7_row7_col4, #T_aa9d7_row7_col5, #T_aa9d7_row7_col6, #T_aa9d7_row7_col7, #T_aa9d7_row8_col0, #T_aa9d7_row8_col1, #T_aa9d7_row8_col2, #T_aa9d7_row8_col3, #T_aa9d7_row8_col4, #T_aa9d7_row8_col5, #T_aa9d7_row8_col6, #T_aa9d7_row8_col7, #T_aa9d7_row9_col0, #T_aa9d7_row9_col1, #T_aa9d7_row9_col2, #T_aa9d7_row9_col3, #T_aa9d7_row9_col4, #T_aa9d7_row9_col5, #T_aa9d7_row9_col6, #T_aa9d7_row9_col7, #T_aa9d7_row10_col0, #T_aa9d7_row10_col1, #T_aa9d7_row10_col2, #T_aa9d7_row10_col3, #T_aa9d7_row10_col4, #T_aa9d7_row10_col5, #T_aa9d7_row10_col6, #T_aa9d7_row10_col7, #T_aa9d7_row11_col0, #T_aa9d7_row11_col1, #T_aa9d7_row11_col2, #T_aa9d7_row11_col4, #T_aa9d7_row11_col6, #T_aa9d7_row11_col7, #T_aa9d7_row12_col0, #T_aa9d7_row12_col1, #T_aa9d7_row12_col2, #T_aa9d7_row12_col3, #T_aa9d7_row12_col4, #T_aa9d7_row12_col5, #T_aa9d7_row12_col6, #T_aa9d7_row12_col7, #T_aa9d7_row13_col0, #T_aa9d7_row13_col1, #T_aa9d7_row13_col2, #T_aa9d7_row13_col3, #T_aa9d7_row13_col4, #T_aa9d7_row13_col5, #T_aa9d7_row13_col6, #T_aa9d7_row13_col7, #T_aa9d7_row14_col0, #T_aa9d7_row14_col1, #T_aa9d7_row14_col2, #T_aa9d7_row14_col3, #T_aa9d7_row14_col4, #T_aa9d7_row14_col5, #T_aa9d7_row14_col6, #T_aa9d7_row14_col7 {\n",
              "  text-align: left;\n",
              "}\n",
              "#T_aa9d7_row0_col1, #T_aa9d7_row0_col6, #T_aa9d7_row0_col7, #T_aa9d7_row1_col2, #T_aa9d7_row1_col4, #T_aa9d7_row11_col3, #T_aa9d7_row11_col5 {\n",
              "  text-align: left;\n",
              "  background-color: yellow;\n",
              "}\n",
              "#T_aa9d7_row0_col8, #T_aa9d7_row1_col8, #T_aa9d7_row2_col8, #T_aa9d7_row3_col8, #T_aa9d7_row4_col8, #T_aa9d7_row5_col8, #T_aa9d7_row6_col8, #T_aa9d7_row7_col8, #T_aa9d7_row8_col8, #T_aa9d7_row9_col8, #T_aa9d7_row10_col8, #T_aa9d7_row11_col8, #T_aa9d7_row13_col8, #T_aa9d7_row14_col8 {\n",
              "  text-align: left;\n",
              "  background-color: lightgrey;\n",
              "}\n",
              "#T_aa9d7_row12_col8 {\n",
              "  text-align: left;\n",
              "  background-color: yellow;\n",
              "  background-color: lightgrey;\n",
              "}\n",
              "</style>\n",
              "<table id=\"T_aa9d7\" class=\"dataframe\">\n",
              "  <thead>\n",
              "    <tr>\n",
              "      <th class=\"blank level0\" >&nbsp;</th>\n",
              "      <th id=\"T_aa9d7_level0_col0\" class=\"col_heading level0 col0\" >Model</th>\n",
              "      <th id=\"T_aa9d7_level0_col1\" class=\"col_heading level0 col1\" >Accuracy</th>\n",
              "      <th id=\"T_aa9d7_level0_col2\" class=\"col_heading level0 col2\" >AUC</th>\n",
              "      <th id=\"T_aa9d7_level0_col3\" class=\"col_heading level0 col3\" >Recall</th>\n",
              "      <th id=\"T_aa9d7_level0_col4\" class=\"col_heading level0 col4\" >Prec.</th>\n",
              "      <th id=\"T_aa9d7_level0_col5\" class=\"col_heading level0 col5\" >F1</th>\n",
              "      <th id=\"T_aa9d7_level0_col6\" class=\"col_heading level0 col6\" >Kappa</th>\n",
              "      <th id=\"T_aa9d7_level0_col7\" class=\"col_heading level0 col7\" >MCC</th>\n",
              "      <th id=\"T_aa9d7_level0_col8\" class=\"col_heading level0 col8\" >TT (Sec)</th>\n",
              "    </tr>\n",
              "  </thead>\n",
              "  <tbody>\n",
              "    <tr>\n",
              "      <th id=\"T_aa9d7_level0_row0\" class=\"row_heading level0 row0\" >lr</th>\n",
              "      <td id=\"T_aa9d7_row0_col0\" class=\"data row0 col0\" >Logistic Regression</td>\n",
              "      <td id=\"T_aa9d7_row0_col1\" class=\"data row0 col1\" >0.8025</td>\n",
              "      <td id=\"T_aa9d7_row0_col2\" class=\"data row0 col2\" >0.8451</td>\n",
              "      <td id=\"T_aa9d7_row0_col3\" class=\"data row0 col3\" >0.5535</td>\n",
              "      <td id=\"T_aa9d7_row0_col4\" class=\"data row0 col4\" >0.6512</td>\n",
              "      <td id=\"T_aa9d7_row0_col5\" class=\"data row0 col5\" >0.5979</td>\n",
              "      <td id=\"T_aa9d7_row0_col6\" class=\"data row0 col6\" >0.4683</td>\n",
              "      <td id=\"T_aa9d7_row0_col7\" class=\"data row0 col7\" >0.4713</td>\n",
              "      <td id=\"T_aa9d7_row0_col8\" class=\"data row0 col8\" >0.8560</td>\n",
              "    </tr>\n",
              "    <tr>\n",
              "      <th id=\"T_aa9d7_level0_row1\" class=\"row_heading level0 row1\" >gbc</th>\n",
              "      <td id=\"T_aa9d7_row1_col0\" class=\"data row1 col0\" >Gradient Boosting Classifier</td>\n",
              "      <td id=\"T_aa9d7_row1_col1\" class=\"data row1 col1\" >0.8015</td>\n",
              "      <td id=\"T_aa9d7_row1_col2\" class=\"data row1 col2\" >0.8471</td>\n",
              "      <td id=\"T_aa9d7_row1_col3\" class=\"data row1 col3\" >0.5214</td>\n",
              "      <td id=\"T_aa9d7_row1_col4\" class=\"data row1 col4\" >0.6615</td>\n",
              "      <td id=\"T_aa9d7_row1_col5\" class=\"data row1 col5\" >0.5824</td>\n",
              "      <td id=\"T_aa9d7_row1_col6\" class=\"data row1 col6\" >0.4547</td>\n",
              "      <td id=\"T_aa9d7_row1_col7\" class=\"data row1 col7\" >0.4607</td>\n",
              "      <td id=\"T_aa9d7_row1_col8\" class=\"data row1 col8\" >0.6540</td>\n",
              "    </tr>\n",
              "    <tr>\n",
              "      <th id=\"T_aa9d7_level0_row2\" class=\"row_heading level0 row2\" >ridge</th>\n",
              "      <td id=\"T_aa9d7_row2_col0\" class=\"data row2 col0\" >Ridge Classifier</td>\n",
              "      <td id=\"T_aa9d7_row2_col1\" class=\"data row2 col1\" >0.8009</td>\n",
              "      <td id=\"T_aa9d7_row2_col2\" class=\"data row2 col2\" >0.8369</td>\n",
              "      <td id=\"T_aa9d7_row2_col3\" class=\"data row2 col3\" >0.5222</td>\n",
              "      <td id=\"T_aa9d7_row2_col4\" class=\"data row2 col4\" >0.6592</td>\n",
              "      <td id=\"T_aa9d7_row2_col5\" class=\"data row2 col5\" >0.5823</td>\n",
              "      <td id=\"T_aa9d7_row2_col6\" class=\"data row2 col6\" >0.4539</td>\n",
              "      <td id=\"T_aa9d7_row2_col7\" class=\"data row2 col7\" >0.4595</td>\n",
              "      <td id=\"T_aa9d7_row2_col8\" class=\"data row2 col8\" >0.0740</td>\n",
              "    </tr>\n",
              "    <tr>\n",
              "      <th id=\"T_aa9d7_level0_row3\" class=\"row_heading level0 row3\" >lda</th>\n",
              "      <td id=\"T_aa9d7_row3_col0\" class=\"data row3 col0\" >Linear Discriminant Analysis</td>\n",
              "      <td id=\"T_aa9d7_row3_col1\" class=\"data row3 col1\" >0.7993</td>\n",
              "      <td id=\"T_aa9d7_row3_col2\" class=\"data row3 col2\" >0.8368</td>\n",
              "      <td id=\"T_aa9d7_row3_col3\" class=\"data row3 col3\" >0.5574</td>\n",
              "      <td id=\"T_aa9d7_row3_col4\" class=\"data row3 col4\" >0.6415</td>\n",
              "      <td id=\"T_aa9d7_row3_col5\" class=\"data row3 col5\" >0.5962</td>\n",
              "      <td id=\"T_aa9d7_row3_col6\" class=\"data row3 col6\" >0.4635</td>\n",
              "      <td id=\"T_aa9d7_row3_col7\" class=\"data row3 col7\" >0.4658</td>\n",
              "      <td id=\"T_aa9d7_row3_col8\" class=\"data row3 col8\" >0.1080</td>\n",
              "    </tr>\n",
              "    <tr>\n",
              "      <th id=\"T_aa9d7_level0_row4\" class=\"row_heading level0 row4\" >ada</th>\n",
              "      <td id=\"T_aa9d7_row4_col0\" class=\"data row4 col0\" >Ada Boost Classifier</td>\n",
              "      <td id=\"T_aa9d7_row4_col1\" class=\"data row4 col1\" >0.7991</td>\n",
              "      <td id=\"T_aa9d7_row4_col2\" class=\"data row4 col2\" >0.8433</td>\n",
              "      <td id=\"T_aa9d7_row4_col3\" class=\"data row4 col3\" >0.5260</td>\n",
              "      <td id=\"T_aa9d7_row4_col4\" class=\"data row4 col4\" >0.6518</td>\n",
              "      <td id=\"T_aa9d7_row4_col5\" class=\"data row4 col5\" >0.5815</td>\n",
              "      <td id=\"T_aa9d7_row4_col6\" class=\"data row4 col6\" >0.4514</td>\n",
              "      <td id=\"T_aa9d7_row4_col7\" class=\"data row4 col7\" >0.4563</td>\n",
              "      <td id=\"T_aa9d7_row4_col8\" class=\"data row4 col8\" >0.2440</td>\n",
              "    </tr>\n",
              "    <tr>\n",
              "      <th id=\"T_aa9d7_level0_row5\" class=\"row_heading level0 row5\" >rf</th>\n",
              "      <td id=\"T_aa9d7_row5_col0\" class=\"data row5 col0\" >Random Forest Classifier</td>\n",
              "      <td id=\"T_aa9d7_row5_col1\" class=\"data row5 col1\" >0.7920</td>\n",
              "      <td id=\"T_aa9d7_row5_col2\" class=\"data row5 col2\" >0.8211</td>\n",
              "      <td id=\"T_aa9d7_row5_col3\" class=\"data row5 col3\" >0.4947</td>\n",
              "      <td id=\"T_aa9d7_row5_col4\" class=\"data row5 col4\" >0.6401</td>\n",
              "      <td id=\"T_aa9d7_row5_col5\" class=\"data row5 col5\" >0.5573</td>\n",
              "      <td id=\"T_aa9d7_row5_col6\" class=\"data row5 col6\" >0.4245</td>\n",
              "      <td id=\"T_aa9d7_row5_col7\" class=\"data row5 col7\" >0.4309</td>\n",
              "      <td id=\"T_aa9d7_row5_col8\" class=\"data row5 col8\" >0.6590</td>\n",
              "    </tr>\n",
              "    <tr>\n",
              "      <th id=\"T_aa9d7_level0_row6\" class=\"row_heading level0 row6\" >lightgbm</th>\n",
              "      <td id=\"T_aa9d7_row6_col0\" class=\"data row6 col0\" >Light Gradient Boosting Machine</td>\n",
              "      <td id=\"T_aa9d7_row6_col1\" class=\"data row6 col1\" >0.7913</td>\n",
              "      <td id=\"T_aa9d7_row6_col2\" class=\"data row6 col2\" >0.8307</td>\n",
              "      <td id=\"T_aa9d7_row6_col3\" class=\"data row6 col3\" >0.5298</td>\n",
              "      <td id=\"T_aa9d7_row6_col4\" class=\"data row6 col4\" >0.6287</td>\n",
              "      <td id=\"T_aa9d7_row6_col5\" class=\"data row6 col5\" >0.5746</td>\n",
              "      <td id=\"T_aa9d7_row6_col6\" class=\"data row6 col6\" >0.4377</td>\n",
              "      <td id=\"T_aa9d7_row6_col7\" class=\"data row6 col7\" >0.4408</td>\n",
              "      <td id=\"T_aa9d7_row6_col8\" class=\"data row6 col8\" >1.8060</td>\n",
              "    </tr>\n",
              "    <tr>\n",
              "      <th id=\"T_aa9d7_level0_row7\" class=\"row_heading level0 row7\" >xgboost</th>\n",
              "      <td id=\"T_aa9d7_row7_col0\" class=\"data row7 col0\" >Extreme Gradient Boosting</td>\n",
              "      <td id=\"T_aa9d7_row7_col1\" class=\"data row7 col1\" >0.7779</td>\n",
              "      <td id=\"T_aa9d7_row7_col2\" class=\"data row7 col2\" >0.8182</td>\n",
              "      <td id=\"T_aa9d7_row7_col3\" class=\"data row7 col3\" >0.5214</td>\n",
              "      <td id=\"T_aa9d7_row7_col4\" class=\"data row7 col4\" >0.5955</td>\n",
              "      <td id=\"T_aa9d7_row7_col5\" class=\"data row7 col5\" >0.5555</td>\n",
              "      <td id=\"T_aa9d7_row7_col6\" class=\"data row7 col6\" >0.4084</td>\n",
              "      <td id=\"T_aa9d7_row7_col7\" class=\"data row7 col7\" >0.4103</td>\n",
              "      <td id=\"T_aa9d7_row7_col8\" class=\"data row7 col8\" >0.1710</td>\n",
              "    </tr>\n",
              "    <tr>\n",
              "      <th id=\"T_aa9d7_level0_row8\" class=\"row_heading level0 row8\" >et</th>\n",
              "      <td id=\"T_aa9d7_row8_col0\" class=\"data row8 col0\" >Extra Trees Classifier</td>\n",
              "      <td id=\"T_aa9d7_row8_col1\" class=\"data row8 col1\" >0.7767</td>\n",
              "      <td id=\"T_aa9d7_row8_col2\" class=\"data row8 col2\" >0.7950</td>\n",
              "      <td id=\"T_aa9d7_row8_col3\" class=\"data row8 col3\" >0.4747</td>\n",
              "      <td id=\"T_aa9d7_row8_col4\" class=\"data row8 col4\" >0.6016</td>\n",
              "      <td id=\"T_aa9d7_row8_col5\" class=\"data row8 col5\" >0.5299</td>\n",
              "      <td id=\"T_aa9d7_row8_col6\" class=\"data row8 col6\" >0.3863</td>\n",
              "      <td id=\"T_aa9d7_row8_col7\" class=\"data row8 col7\" >0.3914</td>\n",
              "      <td id=\"T_aa9d7_row8_col8\" class=\"data row8 col8\" >0.5230</td>\n",
              "    </tr>\n",
              "    <tr>\n",
              "      <th id=\"T_aa9d7_level0_row9\" class=\"row_heading level0 row9\" >svm</th>\n",
              "      <td id=\"T_aa9d7_row9_col0\" class=\"data row9 col0\" >SVM - Linear Kernel</td>\n",
              "      <td id=\"T_aa9d7_row9_col1\" class=\"data row9 col1\" >0.7682</td>\n",
              "      <td id=\"T_aa9d7_row9_col2\" class=\"data row9 col2\" >0.8165</td>\n",
              "      <td id=\"T_aa9d7_row9_col3\" class=\"data row9 col3\" >0.5343</td>\n",
              "      <td id=\"T_aa9d7_row9_col4\" class=\"data row9 col4\" >0.5745</td>\n",
              "      <td id=\"T_aa9d7_row9_col5\" class=\"data row9 col5\" >0.5478</td>\n",
              "      <td id=\"T_aa9d7_row9_col6\" class=\"data row9 col6\" >0.3936</td>\n",
              "      <td id=\"T_aa9d7_row9_col7\" class=\"data row9 col7\" >0.3977</td>\n",
              "      <td id=\"T_aa9d7_row9_col8\" class=\"data row9 col8\" >0.0870</td>\n",
              "    </tr>\n",
              "    <tr>\n",
              "      <th id=\"T_aa9d7_level0_row10\" class=\"row_heading level0 row10\" >knn</th>\n",
              "      <td id=\"T_aa9d7_row10_col0\" class=\"data row10 col0\" >K Neighbors Classifier</td>\n",
              "      <td id=\"T_aa9d7_row10_col1\" class=\"data row10 col1\" >0.7609</td>\n",
              "      <td id=\"T_aa9d7_row10_col2\" class=\"data row10 col2\" >0.7718</td>\n",
              "      <td id=\"T_aa9d7_row10_col3\" class=\"data row10 col3\" >0.5099</td>\n",
              "      <td id=\"T_aa9d7_row10_col4\" class=\"data row10 col4\" >0.5542</td>\n",
              "      <td id=\"T_aa9d7_row10_col5\" class=\"data row10 col5\" >0.5306</td>\n",
              "      <td id=\"T_aa9d7_row10_col6\" class=\"data row10 col6\" >0.3707</td>\n",
              "      <td id=\"T_aa9d7_row10_col7\" class=\"data row10 col7\" >0.3716</td>\n",
              "      <td id=\"T_aa9d7_row10_col8\" class=\"data row10 col8\" >0.0980</td>\n",
              "    </tr>\n",
              "    <tr>\n",
              "      <th id=\"T_aa9d7_level0_row11\" class=\"row_heading level0 row11\" >nb</th>\n",
              "      <td id=\"T_aa9d7_row11_col0\" class=\"data row11 col0\" >Naive Bayes</td>\n",
              "      <td id=\"T_aa9d7_row11_col1\" class=\"data row11 col1\" >0.7446</td>\n",
              "      <td id=\"T_aa9d7_row11_col2\" class=\"data row11 col2\" >0.8292</td>\n",
              "      <td id=\"T_aa9d7_row11_col3\" class=\"data row11 col3\" >0.7638</td>\n",
              "      <td id=\"T_aa9d7_row11_col4\" class=\"data row11 col4\" >0.5137</td>\n",
              "      <td id=\"T_aa9d7_row11_col5\" class=\"data row11 col5\" >0.6139</td>\n",
              "      <td id=\"T_aa9d7_row11_col6\" class=\"data row11 col6\" >0.4340</td>\n",
              "      <td id=\"T_aa9d7_row11_col7\" class=\"data row11 col7\" >0.4534</td>\n",
              "      <td id=\"T_aa9d7_row11_col8\" class=\"data row11 col8\" >0.0610</td>\n",
              "    </tr>\n",
              "    <tr>\n",
              "      <th id=\"T_aa9d7_level0_row12\" class=\"row_heading level0 row12\" >dummy</th>\n",
              "      <td id=\"T_aa9d7_row12_col0\" class=\"data row12 col0\" >Dummy Classifier</td>\n",
              "      <td id=\"T_aa9d7_row12_col1\" class=\"data row12 col1\" >0.7343</td>\n",
              "      <td id=\"T_aa9d7_row12_col2\" class=\"data row12 col2\" >0.5000</td>\n",
              "      <td id=\"T_aa9d7_row12_col3\" class=\"data row12 col3\" >0.0000</td>\n",
              "      <td id=\"T_aa9d7_row12_col4\" class=\"data row12 col4\" >0.0000</td>\n",
              "      <td id=\"T_aa9d7_row12_col5\" class=\"data row12 col5\" >0.0000</td>\n",
              "      <td id=\"T_aa9d7_row12_col6\" class=\"data row12 col6\" >0.0000</td>\n",
              "      <td id=\"T_aa9d7_row12_col7\" class=\"data row12 col7\" >0.0000</td>\n",
              "      <td id=\"T_aa9d7_row12_col8\" class=\"data row12 col8\" >0.0580</td>\n",
              "    </tr>\n",
              "    <tr>\n",
              "      <th id=\"T_aa9d7_level0_row13\" class=\"row_heading level0 row13\" >dt</th>\n",
              "      <td id=\"T_aa9d7_row13_col0\" class=\"data row13 col0\" >Decision Tree Classifier</td>\n",
              "      <td id=\"T_aa9d7_row13_col1\" class=\"data row13 col1\" >0.7296</td>\n",
              "      <td id=\"T_aa9d7_row13_col2\" class=\"data row13 col2\" >0.6569</td>\n",
              "      <td id=\"T_aa9d7_row13_col3\" class=\"data row13 col3\" >0.4992</td>\n",
              "      <td id=\"T_aa9d7_row13_col4\" class=\"data row13 col4\" >0.4922</td>\n",
              "      <td id=\"T_aa9d7_row13_col5\" class=\"data row13 col5\" >0.4955</td>\n",
              "      <td id=\"T_aa9d7_row13_col6\" class=\"data row13 col6\" >0.3109</td>\n",
              "      <td id=\"T_aa9d7_row13_col7\" class=\"data row13 col7\" >0.3110</td>\n",
              "      <td id=\"T_aa9d7_row13_col8\" class=\"data row13 col8\" >0.0770</td>\n",
              "    </tr>\n",
              "    <tr>\n",
              "      <th id=\"T_aa9d7_level0_row14\" class=\"row_heading level0 row14\" >qda</th>\n",
              "      <td id=\"T_aa9d7_row14_col0\" class=\"data row14 col0\" >Quadratic Discriminant Analysis</td>\n",
              "      <td id=\"T_aa9d7_row14_col1\" class=\"data row14 col1\" >0.5982</td>\n",
              "      <td id=\"T_aa9d7_row14_col2\" class=\"data row14 col2\" >0.5660</td>\n",
              "      <td id=\"T_aa9d7_row14_col3\" class=\"data row14 col3\" >0.6847</td>\n",
              "      <td id=\"T_aa9d7_row14_col4\" class=\"data row14 col4\" >0.3911</td>\n",
              "      <td id=\"T_aa9d7_row14_col5\" class=\"data row14 col5\" >0.4699</td>\n",
              "      <td id=\"T_aa9d7_row14_col6\" class=\"data row14 col6\" >0.2045</td>\n",
              "      <td id=\"T_aa9d7_row14_col7\" class=\"data row14 col7\" >0.2458</td>\n",
              "      <td id=\"T_aa9d7_row14_col8\" class=\"data row14 col8\" >0.0600</td>\n",
              "    </tr>\n",
              "  </tbody>\n",
              "</table>\n"
            ]
          },
          "metadata": {}
        },
        {
          "output_type": "display_data",
          "data": {
            "text/plain": [
              "Processing:   0%|          | 0/65 [00:00<?, ?it/s]"
            ],
            "application/vnd.jupyter.widget-view+json": {
              "version_major": 2,
              "version_minor": 0,
              "model_id": "0c2106fdf0ae42cf89d971d2798a0d1c"
            }
          },
          "metadata": {
            "application/vnd.jupyter.widget-view+json": {
              "colab": {
                "custom_widget_manager": {
                  "url": "https://ssl.gstatic.com/colaboratory-static/widgets/colab-cdn-widget-manager/2b70e893a8ba7c0f/manager.min.js"
                }
              }
            }
          }
        },
        {
          "output_type": "display_data",
          "data": {
            "text/plain": [
              "<IPython.core.display.HTML object>"
            ],
            "text/html": []
          },
          "metadata": {}
        }
      ]
    },
    {
      "cell_type": "code",
      "source": [
        "# Latih model terbaik\n",
        "final_model = finalize_model(best_model)"
      ],
      "metadata": {
        "id": "Buzd5MyraTeR"
      },
      "execution_count": 30,
      "outputs": []
    },
    {
      "cell_type": "code",
      "source": [
        "# Simpan model\n",
        "save_model(final_model, 'best_churn_model')"
      ],
      "metadata": {
        "colab": {
          "base_uri": "https://localhost:8080/"
        },
        "id": "uTKlL7W8aXDZ",
        "outputId": "ea898355-e6cb-44d5-d83b-0f81a1761b19"
      },
      "execution_count": 31,
      "outputs": [
        {
          "output_type": "stream",
          "name": "stdout",
          "text": [
            "Transformation Pipeline and Model Successfully Saved\n"
          ]
        },
        {
          "output_type": "execute_result",
          "data": {
            "text/plain": [
              "(Pipeline(memory=Memory(location=None),\n",
              "          steps=[('numerical_imputer',\n",
              "                  TransformerWrapper(exclude=None,\n",
              "                                     include=['SeniorCitizen', 'tenure',\n",
              "                                              'MonthlyCharges', 'TotalCharges',\n",
              "                                              'AvgMonthlyCharges'],\n",
              "                                     transformer=SimpleImputer(add_indicator=False,\n",
              "                                                               copy=True,\n",
              "                                                               fill_value=None,\n",
              "                                                               keep_empty_features=False,\n",
              "                                                               missing_values=nan,\n",
              "                                                               strategy='mean'))),\n",
              "                 ('categorical_imputer',\n",
              "                  Transf...\n",
              "                  TransformerWrapper(exclude=None, include=None,\n",
              "                                     transformer=CleanColumnNames(match='[\\\\]\\\\[\\\\,\\\\{\\\\}\\\\\"\\\\:]+'))),\n",
              "                 ('actual_estimator',\n",
              "                  LogisticRegression(C=1.0, class_weight=None, dual=False,\n",
              "                                     fit_intercept=True, intercept_scaling=1,\n",
              "                                     l1_ratio=None, max_iter=1000,\n",
              "                                     multi_class='auto', n_jobs=None,\n",
              "                                     penalty='l2', random_state=123,\n",
              "                                     solver='lbfgs', tol=0.0001, verbose=0,\n",
              "                                     warm_start=False))],\n",
              "          verbose=False),\n",
              " 'best_churn_model.pkl')"
            ]
          },
          "metadata": {},
          "execution_count": 31
        }
      ]
    },
    {
      "cell_type": "markdown",
      "source": [
        "**Hyperparameter Tuning** \\\n",
        "Tujuan: Mengoptimalkan performa model terbaik dengan tuning hyperparameter."
      ],
      "metadata": {
        "id": "LvtOoR9wae0-"
      }
    },
    {
      "cell_type": "code",
      "source": [
        "# Load model terbaik\n",
        "model = load_model('best_churn_model')"
      ],
      "metadata": {
        "colab": {
          "base_uri": "https://localhost:8080/"
        },
        "id": "J3QPNY_Rahzn",
        "outputId": "e1202999-6238-49df-b440-8afdccea0876"
      },
      "execution_count": 32,
      "outputs": [
        {
          "output_type": "stream",
          "name": "stdout",
          "text": [
            "Transformation Pipeline and Model Successfully Loaded\n"
          ]
        }
      ]
    },
    {
      "cell_type": "code",
      "source": [
        "# Tuning hyperparameter\n",
        "tuned_model = tune_model(model, optimize='F1', n_iter=10)"
      ],
      "metadata": {
        "colab": {
          "base_uri": "https://localhost:8080/",
          "height": 474,
          "referenced_widgets": [
            "0a6c30e212cb4d9393c9e3e5d33a01b8",
            "6471635f5c58486aa5aa417d6c131df3",
            "fe9347f8151442a99a4c5f8780ed5975",
            "50084a82858644f385fb1f6cbcbbd7a9",
            "fda9b38ad4c646cf9945364a4a944fb4",
            "a0c6830ced2e468bb9d46c82728eac47",
            "022a435762df46a98e1fec8d137263ba",
            "11b8bf56ae8c42cebeb7b9353ebe63d9",
            "b101dde9d3d7418ebb2cd7e8fb1c9173",
            "83df83186f1e42cb8f299f3f66346571",
            "4dc4dd11420b4fc1bb1f545d9ce7affa"
          ]
        },
        "id": "XKcmFiMCalGa",
        "outputId": "0a27f260-c068-4066-ec77-0b70d15a75db"
      },
      "execution_count": 33,
      "outputs": [
        {
          "output_type": "display_data",
          "data": {
            "text/plain": [
              "<IPython.core.display.HTML object>"
            ],
            "text/html": []
          },
          "metadata": {}
        },
        {
          "output_type": "display_data",
          "data": {
            "text/plain": [
              "<pandas.io.formats.style.Styler at 0x7cb856eb8fd0>"
            ],
            "text/html": [
              "<style type=\"text/css\">\n",
              "#T_067d6_row10_col0, #T_067d6_row10_col1, #T_067d6_row10_col2, #T_067d6_row10_col3, #T_067d6_row10_col4, #T_067d6_row10_col5, #T_067d6_row10_col6 {\n",
              "  background: yellow;\n",
              "}\n",
              "</style>\n",
              "<table id=\"T_067d6\" class=\"dataframe\">\n",
              "  <thead>\n",
              "    <tr>\n",
              "      <th class=\"blank level0\" >&nbsp;</th>\n",
              "      <th id=\"T_067d6_level0_col0\" class=\"col_heading level0 col0\" >Accuracy</th>\n",
              "      <th id=\"T_067d6_level0_col1\" class=\"col_heading level0 col1\" >AUC</th>\n",
              "      <th id=\"T_067d6_level0_col2\" class=\"col_heading level0 col2\" >Recall</th>\n",
              "      <th id=\"T_067d6_level0_col3\" class=\"col_heading level0 col3\" >Prec.</th>\n",
              "      <th id=\"T_067d6_level0_col4\" class=\"col_heading level0 col4\" >F1</th>\n",
              "      <th id=\"T_067d6_level0_col5\" class=\"col_heading level0 col5\" >Kappa</th>\n",
              "      <th id=\"T_067d6_level0_col6\" class=\"col_heading level0 col6\" >MCC</th>\n",
              "    </tr>\n",
              "    <tr>\n",
              "      <th class=\"index_name level0\" >Fold</th>\n",
              "      <th class=\"blank col0\" >&nbsp;</th>\n",
              "      <th class=\"blank col1\" >&nbsp;</th>\n",
              "      <th class=\"blank col2\" >&nbsp;</th>\n",
              "      <th class=\"blank col3\" >&nbsp;</th>\n",
              "      <th class=\"blank col4\" >&nbsp;</th>\n",
              "      <th class=\"blank col5\" >&nbsp;</th>\n",
              "      <th class=\"blank col6\" >&nbsp;</th>\n",
              "    </tr>\n",
              "  </thead>\n",
              "  <tbody>\n",
              "    <tr>\n",
              "      <th id=\"T_067d6_level0_row0\" class=\"row_heading level0 row0\" >0</th>\n",
              "      <td id=\"T_067d6_row0_col0\" class=\"data row0 col0\" >0.7241</td>\n",
              "      <td id=\"T_067d6_row0_col1\" class=\"data row0 col1\" >0.8206</td>\n",
              "      <td id=\"T_067d6_row0_col2\" class=\"data row0 col2\" >0.7328</td>\n",
              "      <td id=\"T_067d6_row0_col3\" class=\"data row0 col3\" >0.4873</td>\n",
              "      <td id=\"T_067d6_row0_col4\" class=\"data row0 col4\" >0.5854</td>\n",
              "      <td id=\"T_067d6_row0_col5\" class=\"data row0 col5\" >0.3910</td>\n",
              "      <td id=\"T_067d6_row0_col6\" class=\"data row0 col6\" >0.4093</td>\n",
              "    </tr>\n",
              "    <tr>\n",
              "      <th id=\"T_067d6_level0_row1\" class=\"row_heading level0 row1\" >1</th>\n",
              "      <td id=\"T_067d6_row1_col0\" class=\"data row1 col0\" >0.7404</td>\n",
              "      <td id=\"T_067d6_row1_col1\" class=\"data row1 col1\" >0.8304</td>\n",
              "      <td id=\"T_067d6_row1_col2\" class=\"data row1 col2\" >0.7786</td>\n",
              "      <td id=\"T_067d6_row1_col3\" class=\"data row1 col3\" >0.5075</td>\n",
              "      <td id=\"T_067d6_row1_col4\" class=\"data row1 col4\" >0.6145</td>\n",
              "      <td id=\"T_067d6_row1_col5\" class=\"data row1 col5\" >0.4316</td>\n",
              "      <td id=\"T_067d6_row1_col6\" class=\"data row1 col6\" >0.4541</td>\n",
              "    </tr>\n",
              "    <tr>\n",
              "      <th id=\"T_067d6_level0_row2\" class=\"row_heading level0 row2\" >2</th>\n",
              "      <td id=\"T_067d6_row2_col0\" class=\"data row2 col0\" >0.7724</td>\n",
              "      <td id=\"T_067d6_row2_col1\" class=\"data row2 col1\" >0.8951</td>\n",
              "      <td id=\"T_067d6_row2_col2\" class=\"data row2 col2\" >0.8923</td>\n",
              "      <td id=\"T_067d6_row2_col3\" class=\"data row2 col3\" >0.5421</td>\n",
              "      <td id=\"T_067d6_row2_col4\" class=\"data row2 col4\" >0.6744</td>\n",
              "      <td id=\"T_067d6_row2_col5\" class=\"data row2 col5\" >0.5150</td>\n",
              "      <td id=\"T_067d6_row2_col6\" class=\"data row2 col6\" >0.5528</td>\n",
              "    </tr>\n",
              "    <tr>\n",
              "      <th id=\"T_067d6_level0_row3\" class=\"row_heading level0 row3\" >3</th>\n",
              "      <td id=\"T_067d6_row3_col0\" class=\"data row3 col0\" >0.7724</td>\n",
              "      <td id=\"T_067d6_row3_col1\" class=\"data row3 col1\" >0.8558</td>\n",
              "      <td id=\"T_067d6_row3_col2\" class=\"data row3 col2\" >0.8231</td>\n",
              "      <td id=\"T_067d6_row3_col3\" class=\"data row3 col3\" >0.5459</td>\n",
              "      <td id=\"T_067d6_row3_col4\" class=\"data row3 col4\" >0.6564</td>\n",
              "      <td id=\"T_067d6_row3_col5\" class=\"data row3 col5\" >0.4965</td>\n",
              "      <td id=\"T_067d6_row3_col6\" class=\"data row3 col6\" >0.5199</td>\n",
              "    </tr>\n",
              "    <tr>\n",
              "      <th id=\"T_067d6_level0_row4\" class=\"row_heading level0 row4\" >4</th>\n",
              "      <td id=\"T_067d6_row4_col0\" class=\"data row4 col0\" >0.7337</td>\n",
              "      <td id=\"T_067d6_row4_col1\" class=\"data row4 col1\" >0.8090</td>\n",
              "      <td id=\"T_067d6_row4_col2\" class=\"data row4 col2\" >0.8092</td>\n",
              "      <td id=\"T_067d6_row4_col3\" class=\"data row4 col3\" >0.5000</td>\n",
              "      <td id=\"T_067d6_row4_col4\" class=\"data row4 col4\" >0.6181</td>\n",
              "      <td id=\"T_067d6_row4_col5\" class=\"data row4 col5\" >0.4307</td>\n",
              "      <td id=\"T_067d6_row4_col6\" class=\"data row4 col6\" >0.4601</td>\n",
              "    </tr>\n",
              "    <tr>\n",
              "      <th id=\"T_067d6_level0_row5\" class=\"row_heading level0 row5\" >5</th>\n",
              "      <td id=\"T_067d6_row5_col0\" class=\"data row5 col0\" >0.7317</td>\n",
              "      <td id=\"T_067d6_row5_col1\" class=\"data row5 col1\" >0.8419</td>\n",
              "      <td id=\"T_067d6_row5_col2\" class=\"data row5 col2\" >0.8015</td>\n",
              "      <td id=\"T_067d6_row5_col3\" class=\"data row5 col3\" >0.4976</td>\n",
              "      <td id=\"T_067d6_row5_col4\" class=\"data row5 col4\" >0.6140</td>\n",
              "      <td id=\"T_067d6_row5_col5\" class=\"data row5 col5\" >0.4252</td>\n",
              "      <td id=\"T_067d6_row5_col6\" class=\"data row5 col6\" >0.4536</td>\n",
              "    </tr>\n",
              "    <tr>\n",
              "      <th id=\"T_067d6_level0_row6\" class=\"row_heading level0 row6\" >6</th>\n",
              "      <td id=\"T_067d6_row6_col0\" class=\"data row6 col0\" >0.7541</td>\n",
              "      <td id=\"T_067d6_row6_col1\" class=\"data row6 col1\" >0.8530</td>\n",
              "      <td id=\"T_067d6_row6_col2\" class=\"data row6 col2\" >0.8550</td>\n",
              "      <td id=\"T_067d6_row6_col3\" class=\"data row6 col3\" >0.5234</td>\n",
              "      <td id=\"T_067d6_row6_col4\" class=\"data row6 col4\" >0.6493</td>\n",
              "      <td id=\"T_067d6_row6_col5\" class=\"data row6 col5\" >0.4763</td>\n",
              "      <td id=\"T_067d6_row6_col6\" class=\"data row6 col6\" >0.5104</td>\n",
              "    </tr>\n",
              "    <tr>\n",
              "      <th id=\"T_067d6_level0_row7\" class=\"row_heading level0 row7\" >7</th>\n",
              "      <td id=\"T_067d6_row7_col0\" class=\"data row7 col0\" >0.7744</td>\n",
              "      <td id=\"T_067d6_row7_col1\" class=\"data row7 col1\" >0.8614</td>\n",
              "      <td id=\"T_067d6_row7_col2\" class=\"data row7 col2\" >0.8168</td>\n",
              "      <td id=\"T_067d6_row7_col3\" class=\"data row7 col3\" >0.5515</td>\n",
              "      <td id=\"T_067d6_row7_col4\" class=\"data row7 col4\" >0.6585</td>\n",
              "      <td id=\"T_067d6_row7_col5\" class=\"data row7 col5\" >0.4993</td>\n",
              "      <td id=\"T_067d6_row7_col6\" class=\"data row7 col6\" >0.5208</td>\n",
              "    </tr>\n",
              "    <tr>\n",
              "      <th id=\"T_067d6_level0_row8\" class=\"row_heading level0 row8\" >8</th>\n",
              "      <td id=\"T_067d6_row8_col0\" class=\"data row8 col0\" >0.7520</td>\n",
              "      <td id=\"T_067d6_row8_col1\" class=\"data row8 col1\" >0.8364</td>\n",
              "      <td id=\"T_067d6_row8_col2\" class=\"data row8 col2\" >0.7710</td>\n",
              "      <td id=\"T_067d6_row8_col3\" class=\"data row8 col3\" >0.5233</td>\n",
              "      <td id=\"T_067d6_row8_col4\" class=\"data row8 col4\" >0.6235</td>\n",
              "      <td id=\"T_067d6_row8_col5\" class=\"data row8 col5\" >0.4485</td>\n",
              "      <td id=\"T_067d6_row8_col6\" class=\"data row8 col6\" >0.4672</td>\n",
              "    </tr>\n",
              "    <tr>\n",
              "      <th id=\"T_067d6_level0_row9\" class=\"row_heading level0 row9\" >9</th>\n",
              "      <td id=\"T_067d6_row9_col0\" class=\"data row9 col0\" >0.7154</td>\n",
              "      <td id=\"T_067d6_row9_col1\" class=\"data row9 col1\" >0.8452</td>\n",
              "      <td id=\"T_067d6_row9_col2\" class=\"data row9 col2\" >0.7405</td>\n",
              "      <td id=\"T_067d6_row9_col3\" class=\"data row9 col3\" >0.4778</td>\n",
              "      <td id=\"T_067d6_row9_col4\" class=\"data row9 col4\" >0.5808</td>\n",
              "      <td id=\"T_067d6_row9_col5\" class=\"data row9 col5\" >0.3803</td>\n",
              "      <td id=\"T_067d6_row9_col6\" class=\"data row9 col6\" >0.4012</td>\n",
              "    </tr>\n",
              "    <tr>\n",
              "      <th id=\"T_067d6_level0_row10\" class=\"row_heading level0 row10\" >Mean</th>\n",
              "      <td id=\"T_067d6_row10_col0\" class=\"data row10 col0\" >0.7471</td>\n",
              "      <td id=\"T_067d6_row10_col1\" class=\"data row10 col1\" >0.8449</td>\n",
              "      <td id=\"T_067d6_row10_col2\" class=\"data row10 col2\" >0.8021</td>\n",
              "      <td id=\"T_067d6_row10_col3\" class=\"data row10 col3\" >0.5156</td>\n",
              "      <td id=\"T_067d6_row10_col4\" class=\"data row10 col4\" >0.6275</td>\n",
              "      <td id=\"T_067d6_row10_col5\" class=\"data row10 col5\" >0.4494</td>\n",
              "      <td id=\"T_067d6_row10_col6\" class=\"data row10 col6\" >0.4749</td>\n",
              "    </tr>\n",
              "    <tr>\n",
              "      <th id=\"T_067d6_level0_row11\" class=\"row_heading level0 row11\" >Std</th>\n",
              "      <td id=\"T_067d6_row11_col0\" class=\"data row11 col0\" >0.0202</td>\n",
              "      <td id=\"T_067d6_row11_col1\" class=\"data row11 col1\" >0.0227</td>\n",
              "      <td id=\"T_067d6_row11_col2\" class=\"data row11 col2\" >0.0466</td>\n",
              "      <td id=\"T_067d6_row11_col3\" class=\"data row11 col3\" >0.0243</td>\n",
              "      <td id=\"T_067d6_row11_col4\" class=\"data row11 col4\" >0.0298</td>\n",
              "      <td id=\"T_067d6_row11_col5\" class=\"data row11 col5\" >0.0438</td>\n",
              "      <td id=\"T_067d6_row11_col6\" class=\"data row11 col6\" >0.0473</td>\n",
              "    </tr>\n",
              "  </tbody>\n",
              "</table>\n"
            ]
          },
          "metadata": {}
        },
        {
          "output_type": "display_data",
          "data": {
            "text/plain": [
              "Processing:   0%|          | 0/7 [00:00<?, ?it/s]"
            ],
            "application/vnd.jupyter.widget-view+json": {
              "version_major": 2,
              "version_minor": 0,
              "model_id": "0a6c30e212cb4d9393c9e3e5d33a01b8"
            }
          },
          "metadata": {
            "application/vnd.jupyter.widget-view+json": {
              "colab": {
                "custom_widget_manager": {
                  "url": "https://ssl.gstatic.com/colaboratory-static/widgets/colab-cdn-widget-manager/2b70e893a8ba7c0f/manager.min.js"
                }
              }
            }
          }
        },
        {
          "output_type": "stream",
          "name": "stdout",
          "text": [
            "Fitting 10 folds for each of 10 candidates, totalling 100 fits\n"
          ]
        },
        {
          "output_type": "display_data",
          "data": {
            "text/plain": [
              "<IPython.core.display.HTML object>"
            ],
            "text/html": []
          },
          "metadata": {}
        }
      ]
    },
    {
      "cell_type": "code",
      "source": [
        "# Simpan model yang sudah dituning\n",
        "save_model(tuned_model, 'tuned_churn_model')"
      ],
      "metadata": {
        "colab": {
          "base_uri": "https://localhost:8080/"
        },
        "id": "E-xLHDeWar9E",
        "outputId": "5af7576a-e7c3-47e8-e5b7-74c5eafa1d38"
      },
      "execution_count": 34,
      "outputs": [
        {
          "output_type": "stream",
          "name": "stdout",
          "text": [
            "Transformation Pipeline and Model Successfully Saved\n"
          ]
        },
        {
          "output_type": "execute_result",
          "data": {
            "text/plain": [
              "(Pipeline(memory=Memory(location=None),\n",
              "          steps=[('numerical_imputer',\n",
              "                  TransformerWrapper(exclude=None,\n",
              "                                     include=['SeniorCitizen', 'tenure',\n",
              "                                              'MonthlyCharges', 'TotalCharges',\n",
              "                                              'AvgMonthlyCharges'],\n",
              "                                     transformer=SimpleImputer(add_indicator=False,\n",
              "                                                               copy=True,\n",
              "                                                               fill_value=None,\n",
              "                                                               keep_empty_features=False,\n",
              "                                                               missing_values=nan,\n",
              "                                                               strategy='mean'))),\n",
              "                 ('categorical_imputer',\n",
              "                  Transf...\n",
              "                  TransformerWrapper(exclude=None, include=None,\n",
              "                                     transformer=CleanColumnNames(match='[\\\\]\\\\[\\\\,\\\\{\\\\}\\\\\"\\\\:]+'))),\n",
              "                 ('trained_model',\n",
              "                  LogisticRegression(C=2.833, class_weight='balanced',\n",
              "                                     dual=False, fit_intercept=True,\n",
              "                                     intercept_scaling=1, l1_ratio=None,\n",
              "                                     max_iter=1000, multi_class='auto',\n",
              "                                     n_jobs=None, penalty='l2', random_state=123,\n",
              "                                     solver='lbfgs', tol=0.0001, verbose=0,\n",
              "                                     warm_start=False))],\n",
              "          verbose=False),\n",
              " 'tuned_churn_model.pkl')"
            ]
          },
          "metadata": {},
          "execution_count": 34
        }
      ]
    },
    {
      "cell_type": "markdown",
      "source": [
        "**Model Evaluation & Explainability** \\\n",
        "Tujuan: Mengevaluasi performa model dan menjelaskan prediksi menggunakan SHAP."
      ],
      "metadata": {
        "id": "KV0XjeWcavVS"
      }
    },
    {
      "cell_type": "code",
      "source": [
        "# Load model yang sudah dituning\n",
        "model = load_model('tuned_churn_model')"
      ],
      "metadata": {
        "colab": {
          "base_uri": "https://localhost:8080/"
        },
        "id": "6eOPGmByayUT",
        "outputId": "ff4a0d25-44a8-47da-bb3f-a0a69bf35f03"
      },
      "execution_count": 35,
      "outputs": [
        {
          "output_type": "stream",
          "name": "stdout",
          "text": [
            "Transformation Pipeline and Model Successfully Loaded\n"
          ]
        }
      ]
    },
    {
      "cell_type": "code",
      "source": [
        "# Evaluasi model\n",
        "evaluate_model(model)"
      ],
      "metadata": {
        "colab": {
          "base_uri": "https://localhost:8080/",
          "height": 663,
          "referenced_widgets": [
            "41cde8412598470f89bb500111004941",
            "120f0313f4cc41508991acadaeef9ed6",
            "4251982922eb44f9ab7dc5e5d2f934b1",
            "534b6500233344c28d00343bb65e31c1",
            "21b3cc88b74c4065a279679b4bbf9643",
            "80fbd66b5a2e4cfe9e5cc63396fe1404",
            "a7f783c4f5b24b1fa1b5b18cc5950acc"
          ]
        },
        "id": "kmtGmrvca02l",
        "outputId": "5e9e65c0-17bf-4220-97fe-eb1ee79c5654"
      },
      "execution_count": 36,
      "outputs": [
        {
          "output_type": "display_data",
          "data": {
            "text/plain": [
              "interactive(children=(ToggleButtons(description='Plot Type:', icons=('',), options=(('Pipeline Plot', 'pipelin…"
            ],
            "application/vnd.jupyter.widget-view+json": {
              "version_major": 2,
              "version_minor": 0,
              "model_id": "41cde8412598470f89bb500111004941"
            }
          },
          "metadata": {
            "application/vnd.jupyter.widget-view+json": {
              "colab": {
                "custom_widget_manager": {
                  "url": "https://ssl.gstatic.com/colaboratory-static/widgets/colab-cdn-widget-manager/2b70e893a8ba7c0f/manager.min.js"
                }
              }
            }
          }
        }
      ]
    },
    {
      "cell_type": "code",
      "source": [
        "# Prediksi pada data training\n",
        "predictions = predict_model(model)"
      ],
      "metadata": {
        "colab": {
          "base_uri": "https://localhost:8080/",
          "height": 81
        },
        "id": "WDIfU81ibAGH",
        "outputId": "aa874419-35e0-40f6-e7a7-6c71b108e14c"
      },
      "execution_count": 53,
      "outputs": [
        {
          "output_type": "display_data",
          "data": {
            "text/plain": [
              "<pandas.io.formats.style.Styler at 0x7cb8344ff6d0>"
            ],
            "text/html": [
              "<style type=\"text/css\">\n",
              "</style>\n",
              "<table id=\"T_8cc9e\" class=\"dataframe\">\n",
              "  <thead>\n",
              "    <tr>\n",
              "      <th class=\"blank level0\" >&nbsp;</th>\n",
              "      <th id=\"T_8cc9e_level0_col0\" class=\"col_heading level0 col0\" >Model</th>\n",
              "      <th id=\"T_8cc9e_level0_col1\" class=\"col_heading level0 col1\" >Accuracy</th>\n",
              "      <th id=\"T_8cc9e_level0_col2\" class=\"col_heading level0 col2\" >AUC</th>\n",
              "      <th id=\"T_8cc9e_level0_col3\" class=\"col_heading level0 col3\" >Recall</th>\n",
              "      <th id=\"T_8cc9e_level0_col4\" class=\"col_heading level0 col4\" >Prec.</th>\n",
              "      <th id=\"T_8cc9e_level0_col5\" class=\"col_heading level0 col5\" >F1</th>\n",
              "      <th id=\"T_8cc9e_level0_col6\" class=\"col_heading level0 col6\" >Kappa</th>\n",
              "      <th id=\"T_8cc9e_level0_col7\" class=\"col_heading level0 col7\" >MCC</th>\n",
              "    </tr>\n",
              "  </thead>\n",
              "  <tbody>\n",
              "    <tr>\n",
              "      <th id=\"T_8cc9e_level0_row0\" class=\"row_heading level0 row0\" >0</th>\n",
              "      <td id=\"T_8cc9e_row0_col0\" class=\"data row0 col0\" >Logistic Regression</td>\n",
              "      <td id=\"T_8cc9e_row0_col1\" class=\"data row0 col1\" >0.8076</td>\n",
              "      <td id=\"T_8cc9e_row0_col2\" class=\"data row0 col2\" >0.8466</td>\n",
              "      <td id=\"T_8cc9e_row0_col3\" class=\"data row0 col3\" >0.5348</td>\n",
              "      <td id=\"T_8cc9e_row0_col4\" class=\"data row0 col4\" >0.6742</td>\n",
              "      <td id=\"T_8cc9e_row0_col5\" class=\"data row0 col5\" >0.5964</td>\n",
              "      <td id=\"T_8cc9e_row0_col6\" class=\"data row0 col6\" >0.4723</td>\n",
              "      <td id=\"T_8cc9e_row0_col7\" class=\"data row0 col7\" >0.4778</td>\n",
              "    </tr>\n",
              "  </tbody>\n",
              "</table>\n"
            ]
          },
          "metadata": {}
        }
      ]
    },
    {
      "cell_type": "code",
      "source": [
        "# test_model.py\n",
        "\n",
        "import pandas as pd\n",
        "from pycaret.classification import load_model, predict_model\n",
        "from sklearn.metrics import classification_report # Import classification_report explicitly\n",
        "\n",
        "# Step 1: Load Model\n",
        "model = load_model('tuned_churn_model')\n",
        "print(\"✅ Model berhasil diload.\")\n",
        "\n",
        "# Step 2: Load Dataset untuk Testing\n",
        "# (bisa pakai dataset baru atau dataset lama yang sudah diproses)\n",
        "test_df = pd.read_csv('processed_telco_data.csv')\n",
        "\n",
        "# Step 3: Prediksi\n",
        "predictions = predict_model(model, data=test_df)\n",
        "\n",
        "# Step 4: Simpan hasil prediksi ke CSV\n",
        "predictions.to_csv('churn_predictions.csv', index=False)\n",
        "print(\"✅ Prediksi selesai dan disimpan ke 'churn_predictions.csv'\")\n",
        "\n",
        "# Step 5: Cek performa ringkas (kalau ada kolom 'Churn' untuk validasi)\n",
        "if 'Churn' in test_df.columns:\n",
        "    y_true = test_df['Churn']\n",
        "    # Use the predicted 'Label' column instead of the continuous 'prediction_score'\n",
        "    y_pred = predictions['prediction_label']\n",
        "\n",
        "    print(\"📊 Classification Report:\")\n",
        "    print(classification_report(y_true, y_pred))\n",
        "\n",
        "# Optional: Lihat 10 prediksi pertama\n",
        "print(\"\\n🧪 Contoh hasil prediksi:\")\n",
        "print(predictions[['Churn', 'prediction_label', 'prediction_score']].head(10))"
      ],
      "metadata": {
        "colab": {
          "base_uri": "https://localhost:8080/",
          "height": 532
        },
        "id": "PWyurARdeUPd",
        "outputId": "720c4340-db49-4167-cd7f-9b0600cc3750"
      },
      "execution_count": 64,
      "outputs": [
        {
          "output_type": "stream",
          "name": "stdout",
          "text": [
            "Transformation Pipeline and Model Successfully Loaded\n",
            "✅ Model berhasil diload.\n"
          ]
        },
        {
          "output_type": "display_data",
          "data": {
            "text/plain": [
              "<pandas.io.formats.style.Styler at 0x7cb85670f6d0>"
            ],
            "text/html": [
              "<style type=\"text/css\">\n",
              "</style>\n",
              "<table id=\"T_de7ad\" class=\"dataframe\">\n",
              "  <thead>\n",
              "    <tr>\n",
              "      <th class=\"blank level0\" >&nbsp;</th>\n",
              "      <th id=\"T_de7ad_level0_col0\" class=\"col_heading level0 col0\" >Model</th>\n",
              "      <th id=\"T_de7ad_level0_col1\" class=\"col_heading level0 col1\" >Accuracy</th>\n",
              "      <th id=\"T_de7ad_level0_col2\" class=\"col_heading level0 col2\" >AUC</th>\n",
              "      <th id=\"T_de7ad_level0_col3\" class=\"col_heading level0 col3\" >Recall</th>\n",
              "      <th id=\"T_de7ad_level0_col4\" class=\"col_heading level0 col4\" >Prec.</th>\n",
              "      <th id=\"T_de7ad_level0_col5\" class=\"col_heading level0 col5\" >F1</th>\n",
              "      <th id=\"T_de7ad_level0_col6\" class=\"col_heading level0 col6\" >Kappa</th>\n",
              "      <th id=\"T_de7ad_level0_col7\" class=\"col_heading level0 col7\" >MCC</th>\n",
              "    </tr>\n",
              "  </thead>\n",
              "  <tbody>\n",
              "    <tr>\n",
              "      <th id=\"T_de7ad_level0_row0\" class=\"row_heading level0 row0\" >0</th>\n",
              "      <td id=\"T_de7ad_row0_col0\" class=\"data row0 col0\" >Logistic Regression</td>\n",
              "      <td id=\"T_de7ad_row0_col1\" class=\"data row0 col1\" >0.7510</td>\n",
              "      <td id=\"T_de7ad_row0_col2\" class=\"data row0 col2\" >0.8478</td>\n",
              "      <td id=\"T_de7ad_row0_col3\" class=\"data row0 col3\" >0.8031</td>\n",
              "      <td id=\"T_de7ad_row0_col4\" class=\"data row0 col4\" >0.5205</td>\n",
              "      <td id=\"T_de7ad_row0_col5\" class=\"data row0 col5\" >0.6316</td>\n",
              "      <td id=\"T_de7ad_row0_col6\" class=\"data row0 col6\" >0.4562</td>\n",
              "      <td id=\"T_de7ad_row0_col7\" class=\"data row0 col7\" >0.4807</td>\n",
              "    </tr>\n",
              "  </tbody>\n",
              "</table>\n"
            ]
          },
          "metadata": {}
        },
        {
          "output_type": "stream",
          "name": "stdout",
          "text": [
            "✅ Prediksi selesai dan disimpan ke 'churn_predictions.csv'\n",
            "📊 Classification Report:\n",
            "              precision    recall  f1-score   support\n",
            "\n",
            "           0       0.91      0.73      0.81      5163\n",
            "           1       0.52      0.80      0.63      1869\n",
            "\n",
            "    accuracy                           0.75      7032\n",
            "   macro avg       0.72      0.77      0.72      7032\n",
            "weighted avg       0.81      0.75      0.76      7032\n",
            "\n",
            "\n",
            "🧪 Contoh hasil prediksi:\n",
            "   Churn  prediction_label  prediction_score\n",
            "0      0                 1            0.8083\n",
            "1      0                 0            0.8967\n",
            "2      1                 1            0.5181\n",
            "3      0                 0            0.9188\n",
            "4      1                 1            0.8598\n",
            "5      1                 1            0.9005\n",
            "6      0                 1            0.7213\n",
            "7      0                 1            0.5327\n",
            "8      1                 1            0.7946\n",
            "9      0                 0            0.9659\n"
          ]
        }
      ]
    }
  ]
}